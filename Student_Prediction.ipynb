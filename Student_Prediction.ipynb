{
  "cells": [
    {
      "cell_type": "markdown",
      "source": [
        "# **Introduction**\n",
        "In this documentation, I will present a hybrid machine learning model that I have built for predicting student performance in a class. By using the power of Support Vector Machine (SVM), Gaussian Naive Bayes (GNB), and One-Hot Encoder (OHE) which is a decision tree, I aim to develop a robust and accurate model that incorporates various data inputs, such as class assignments, quizzes, class attendance, and internet usage, to predict student performance.\n",
        "\n",
        "# **Problem Statement**\n",
        "As an educator, I understand the importance of predicting student performance to identify students who may need additional support or interventions. To address this need, I set out to build a machine learning model that can effectively analyze multiple data sources, including class assignments, quizzes, class attendance, and internet usage, and predict student performance accurately.\n"
      ],
      "metadata": {
        "id": "N3AjyKg_lfKS"
      }
    },
    {
      "cell_type": "markdown",
      "source": [
        "# Importing Libraies for the model"
      ],
      "metadata": {
        "id": "_cpBVpflnlR5"
      }
    },
    {
      "cell_type": "code",
      "execution_count": 1,
      "metadata": {
        "id": "4PyJirYuApNe"
      },
      "outputs": [],
      "source": [
        "import pandas as pd\n",
        "import numpy as np\n",
        "import matplotlib.pyplot as plt\n",
        "%matplotlib inline\n",
        "import seaborn as sns"
      ]
    },
    {
      "cell_type": "markdown",
      "source": [
        "# Input Variables:\n",
        "Selected the following input variables for my hybrid model:\n",
        "\n",
        "1.   Class Assignments: Scores or grades obtained by students in different class assignments or projects.\n",
        "\n",
        "2.   Quizzes: Performance metrics in quizzes or short assessments conducted during the course.\n",
        "3.    Class Attendance: Information on student attendance, such as the number of classes attended or attendance percentage.\n",
        "\n",
        "4.  Internet Usage: Metrics related to internet usage, such as time spent on online learning platforms or engagement with online educational resources.\n",
        "\n",
        "# Output Variable:\n",
        "The output variable is the predicted student performance, represented as a binary classification (e.g., high-performing or low-performing) or a multi-class classification (e.g., grades A, B, C, D, or F).\n"
      ],
      "metadata": {
        "id": "lW8x92xJoWWO"
      }
    },
    {
      "cell_type": "code",
      "execution_count": 2,
      "metadata": {
        "id": "Gs9ZUKMPCzrI",
        "outputId": "a8a8038f-0715-46b9-d651-040a45312bad",
        "colab": {
          "base_uri": "https://localhost:8080/",
          "height": 1000
        }
      },
      "outputs": [
        {
          "output_type": "execute_result",
          "data": {
            "text/plain": [
              "     Response               Full Name  What is your gender  \\\n",
              "0           1            CASTRO ANANE                    1   \n",
              "1           2       BEKOE SIMON BOADU                    2   \n",
              "2           3   JANET BAWUAH AMPONSAH                    1   \n",
              "3           4    ADELAIDE POKUAA GYAU                    1   \n",
              "4           5    GODFRED ODURO ANOKYE                    1   \n",
              "..        ...                     ...                  ...   \n",
              "170       172            MAVIS OPPONG                    2   \n",
              "171       173          MAX KYEI ASARE                    2   \n",
              "172       174  OWUSU ACHEAMPONG VASTY                    2   \n",
              "173       175     PRISCILLA AGYAPOMAA                    2   \n",
              "174       176    VINCENTIA OSEI -TUTU                    2   \n",
              "\n",
              "     The internet in my home is reliable in terms of signal strength   \\\n",
              "0                                                    4                  \n",
              "1                                                    3                  \n",
              "2                                                    4                  \n",
              "3                                                    2                  \n",
              "4                                                    2                  \n",
              "..                                                 ...                  \n",
              "170                                                  2                  \n",
              "171                                                  1                  \n",
              "172                                                  1                  \n",
              "173                                                  2                  \n",
              "174                                                  4                  \n",
              "\n",
              "     The internet in terms of signal strength on campus is reliable   \\\n",
              "0                                                    3                 \n",
              "1                                                    1                 \n",
              "2                                                    2                 \n",
              "3                                                    2                 \n",
              "4                                                    2                 \n",
              "..                                                 ...                 \n",
              "170                                                  2                 \n",
              "171                                                  2                 \n",
              "172                                                  1                 \n",
              "173                                                  1                 \n",
              "174                                                  1                 \n",
              "\n",
              "     The lighten system in my classroom and dormitory is reliable  \\\n",
              "0                                                    3              \n",
              "1                                                    1              \n",
              "2                                                    3              \n",
              "3                                                    1              \n",
              "4                                                    2              \n",
              "..                                                 ...              \n",
              "170                                                  1              \n",
              "171                                                  2              \n",
              "172                                                  1              \n",
              "173                                                  2              \n",
              "174                                                  1              \n",
              "\n",
              "     The lighten system on campus is reliable   \\\n",
              "0                                            1   \n",
              "1                                            1   \n",
              "2                                            3   \n",
              "3                                            2   \n",
              "4                                            2   \n",
              "..                                         ...   \n",
              "170                                          1   \n",
              "171                                          1   \n",
              "172                                          1   \n",
              "173                                          1   \n",
              "174                                          1   \n",
              "\n",
              "     Class attendance checklist Monday   Class attendance checklist Tuesday  \\\n",
              "0                                     1                                   1   \n",
              "1                                     1                                   1   \n",
              "2                                     1                                   0   \n",
              "3                                     1                                   1   \n",
              "4                                     1                                   1   \n",
              "..                                  ...                                 ...   \n",
              "170                                   1                                   1   \n",
              "171                                   1                                   1   \n",
              "172                                   1                                   1   \n",
              "173                                   1                                   1   \n",
              "174                                   1                                   1   \n",
              "\n",
              "     Class attendance checklist Wednesday  ...  \\\n",
              "0                                       1  ...   \n",
              "1                                       1  ...   \n",
              "2                                       0  ...   \n",
              "3                                       1  ...   \n",
              "4                                       1  ...   \n",
              "..                                    ...  ...   \n",
              "170                                     1  ...   \n",
              "171                                     1  ...   \n",
              "172                                     1  ...   \n",
              "173                                     1  ...   \n",
              "174                                     1  ...   \n",
              "\n",
              "     LMS attendance checklist (number of hours students chat tutors) (Thursday)  \\\n",
              "0                                                    1                            \n",
              "1                                                    1                            \n",
              "2                                                    1                            \n",
              "3                                                    1                            \n",
              "4                                                    1                            \n",
              "..                                                 ...                            \n",
              "170                                                  1                            \n",
              "171                                                  1                            \n",
              "172                                                  1                            \n",
              "173                                                  1                            \n",
              "174                                                  1                            \n",
              "\n",
              "     LMS attendance checklist (number of hours students chat tutors) (Friday)  \\\n",
              "0                                                    1                          \n",
              "1                                                    1                          \n",
              "2                                                    1                          \n",
              "3                                                    1                          \n",
              "4                                                    1                          \n",
              "..                                                 ...                          \n",
              "170                                                  1                          \n",
              "171                                                  1                          \n",
              "172                                                  1                          \n",
              "173                                                  1                          \n",
              "174                                                  1                          \n",
              "\n",
              "     LMS Assignments  LMS  Quizzes   LMS access to notes checklist  GPA  \\\n",
              "0                  1              1                              1  3.9   \n",
              "1                  1              1                              1  3.8   \n",
              "2                  1              1                              1  3.8   \n",
              "3                  1              1                              1  3.8   \n",
              "4                  1              1                              1  3.8   \n",
              "..               ...            ...                            ...  ...   \n",
              "170                1              1                              1  1.5   \n",
              "171                1              1                              1  1.4   \n",
              "172                1              1                              1  1.4   \n",
              "173                1              1                              1  1.4   \n",
              "174                1              1                              1  1.3   \n",
              "\n",
              "     What feature in the Learning management system contribute mostly in your academic performance and why?  \\\n",
              "0                                                CHAT                                                         \n",
              "1                                              FORUMN                                                         \n",
              "2                                 ZOOM/VIDEO LECTURES                                                         \n",
              "3                                                FILE                                                         \n",
              "4                                                CHAT                                                         \n",
              "..                                                 ...                                                        \n",
              "170                               ZOOM/VIDEO LECTURES                                                         \n",
              "171                               ZOOM/VIDEO LECTURES                                                         \n",
              "172                                              CHAT                                                         \n",
              "173                               ZOOM/VIDEO LECTURES                                                         \n",
              "174                               ZOOM/VIDEO LECTURES                                                         \n",
              "\n",
              "     How do you expect your academic performance to be improved by  \\\n",
              "0    Governtment: Building of more lecture rooms an...               \n",
              "1    School  authorities: They should continue to r...               \n",
              "2    School  authorities: To provide students handb...               \n",
              "3    Tutors: They should be always be regular and p...               \n",
              "4    Government: The government should pay the allo...               \n",
              "..                                                 ...               \n",
              "170  Tutors: Tutors must use a valid appropriate me...               \n",
              "171  Government: The government shoulde provide a c...               \n",
              "172  School authorities: The school must provide a ...               \n",
              "173  Tutors: Tutors should consider the interest of...               \n",
              "174  Government: The government should provide teac...               \n",
              "\n",
              "     Assignment Score  Class Attendance  \n",
              "0                   5                10  \n",
              "1                   5                10  \n",
              "2                   5                 8  \n",
              "3                   5                10  \n",
              "4                   5                10  \n",
              "..                ...               ...  \n",
              "170                 5                10  \n",
              "171                 5                10  \n",
              "172                 5                10  \n",
              "173                 5                10  \n",
              "174                 5                10  \n",
              "\n",
              "[175 rows x 33 columns]"
            ],
            "text/html": [
              "\n",
              "  <div id=\"df-40e8cb24-2575-4d27-ab16-ad535c0de8c8\">\n",
              "    <div class=\"colab-df-container\">\n",
              "      <div>\n",
              "<style scoped>\n",
              "    .dataframe tbody tr th:only-of-type {\n",
              "        vertical-align: middle;\n",
              "    }\n",
              "\n",
              "    .dataframe tbody tr th {\n",
              "        vertical-align: top;\n",
              "    }\n",
              "\n",
              "    .dataframe thead th {\n",
              "        text-align: right;\n",
              "    }\n",
              "</style>\n",
              "<table border=\"1\" class=\"dataframe\">\n",
              "  <thead>\n",
              "    <tr style=\"text-align: right;\">\n",
              "      <th></th>\n",
              "      <th>Response</th>\n",
              "      <th>Full Name</th>\n",
              "      <th>What is your gender</th>\n",
              "      <th>The internet in my home is reliable in terms of signal strength</th>\n",
              "      <th>The internet in terms of signal strength on campus is reliable</th>\n",
              "      <th>The lighten system in my classroom and dormitory is reliable</th>\n",
              "      <th>The lighten system on campus is reliable</th>\n",
              "      <th>Class attendance checklist Monday</th>\n",
              "      <th>Class attendance checklist Tuesday</th>\n",
              "      <th>Class attendance checklist Wednesday</th>\n",
              "      <th>...</th>\n",
              "      <th>LMS attendance checklist (number of hours students chat tutors) (Thursday)</th>\n",
              "      <th>LMS attendance checklist (number of hours students chat tutors) (Friday)</th>\n",
              "      <th>LMS Assignments</th>\n",
              "      <th>LMS  Quizzes</th>\n",
              "      <th>LMS access to notes checklist</th>\n",
              "      <th>GPA</th>\n",
              "      <th>What feature in the Learning management system contribute mostly in your academic performance and why?</th>\n",
              "      <th>How do you expect your academic performance to be improved by</th>\n",
              "      <th>Assignment Score</th>\n",
              "      <th>Class Attendance</th>\n",
              "    </tr>\n",
              "  </thead>\n",
              "  <tbody>\n",
              "    <tr>\n",
              "      <th>0</th>\n",
              "      <td>1</td>\n",
              "      <td>CASTRO ANANE</td>\n",
              "      <td>1</td>\n",
              "      <td>4</td>\n",
              "      <td>3</td>\n",
              "      <td>3</td>\n",
              "      <td>1</td>\n",
              "      <td>1</td>\n",
              "      <td>1</td>\n",
              "      <td>1</td>\n",
              "      <td>...</td>\n",
              "      <td>1</td>\n",
              "      <td>1</td>\n",
              "      <td>1</td>\n",
              "      <td>1</td>\n",
              "      <td>1</td>\n",
              "      <td>3.9</td>\n",
              "      <td>CHAT</td>\n",
              "      <td>Governtment: Building of more lecture rooms an...</td>\n",
              "      <td>5</td>\n",
              "      <td>10</td>\n",
              "    </tr>\n",
              "    <tr>\n",
              "      <th>1</th>\n",
              "      <td>2</td>\n",
              "      <td>BEKOE SIMON BOADU</td>\n",
              "      <td>2</td>\n",
              "      <td>3</td>\n",
              "      <td>1</td>\n",
              "      <td>1</td>\n",
              "      <td>1</td>\n",
              "      <td>1</td>\n",
              "      <td>1</td>\n",
              "      <td>1</td>\n",
              "      <td>...</td>\n",
              "      <td>1</td>\n",
              "      <td>1</td>\n",
              "      <td>1</td>\n",
              "      <td>1</td>\n",
              "      <td>1</td>\n",
              "      <td>3.8</td>\n",
              "      <td>FORUMN</td>\n",
              "      <td>School  authorities: They should continue to r...</td>\n",
              "      <td>5</td>\n",
              "      <td>10</td>\n",
              "    </tr>\n",
              "    <tr>\n",
              "      <th>2</th>\n",
              "      <td>3</td>\n",
              "      <td>JANET BAWUAH AMPONSAH</td>\n",
              "      <td>1</td>\n",
              "      <td>4</td>\n",
              "      <td>2</td>\n",
              "      <td>3</td>\n",
              "      <td>3</td>\n",
              "      <td>1</td>\n",
              "      <td>0</td>\n",
              "      <td>0</td>\n",
              "      <td>...</td>\n",
              "      <td>1</td>\n",
              "      <td>1</td>\n",
              "      <td>1</td>\n",
              "      <td>1</td>\n",
              "      <td>1</td>\n",
              "      <td>3.8</td>\n",
              "      <td>ZOOM/VIDEO LECTURES</td>\n",
              "      <td>School  authorities: To provide students handb...</td>\n",
              "      <td>5</td>\n",
              "      <td>8</td>\n",
              "    </tr>\n",
              "    <tr>\n",
              "      <th>3</th>\n",
              "      <td>4</td>\n",
              "      <td>ADELAIDE POKUAA GYAU</td>\n",
              "      <td>1</td>\n",
              "      <td>2</td>\n",
              "      <td>2</td>\n",
              "      <td>1</td>\n",
              "      <td>2</td>\n",
              "      <td>1</td>\n",
              "      <td>1</td>\n",
              "      <td>1</td>\n",
              "      <td>...</td>\n",
              "      <td>1</td>\n",
              "      <td>1</td>\n",
              "      <td>1</td>\n",
              "      <td>1</td>\n",
              "      <td>1</td>\n",
              "      <td>3.8</td>\n",
              "      <td>FILE</td>\n",
              "      <td>Tutors: They should be always be regular and p...</td>\n",
              "      <td>5</td>\n",
              "      <td>10</td>\n",
              "    </tr>\n",
              "    <tr>\n",
              "      <th>4</th>\n",
              "      <td>5</td>\n",
              "      <td>GODFRED ODURO ANOKYE</td>\n",
              "      <td>1</td>\n",
              "      <td>2</td>\n",
              "      <td>2</td>\n",
              "      <td>2</td>\n",
              "      <td>2</td>\n",
              "      <td>1</td>\n",
              "      <td>1</td>\n",
              "      <td>1</td>\n",
              "      <td>...</td>\n",
              "      <td>1</td>\n",
              "      <td>1</td>\n",
              "      <td>1</td>\n",
              "      <td>1</td>\n",
              "      <td>1</td>\n",
              "      <td>3.8</td>\n",
              "      <td>CHAT</td>\n",
              "      <td>Government: The government should pay the allo...</td>\n",
              "      <td>5</td>\n",
              "      <td>10</td>\n",
              "    </tr>\n",
              "    <tr>\n",
              "      <th>...</th>\n",
              "      <td>...</td>\n",
              "      <td>...</td>\n",
              "      <td>...</td>\n",
              "      <td>...</td>\n",
              "      <td>...</td>\n",
              "      <td>...</td>\n",
              "      <td>...</td>\n",
              "      <td>...</td>\n",
              "      <td>...</td>\n",
              "      <td>...</td>\n",
              "      <td>...</td>\n",
              "      <td>...</td>\n",
              "      <td>...</td>\n",
              "      <td>...</td>\n",
              "      <td>...</td>\n",
              "      <td>...</td>\n",
              "      <td>...</td>\n",
              "      <td>...</td>\n",
              "      <td>...</td>\n",
              "      <td>...</td>\n",
              "      <td>...</td>\n",
              "    </tr>\n",
              "    <tr>\n",
              "      <th>170</th>\n",
              "      <td>172</td>\n",
              "      <td>MAVIS OPPONG</td>\n",
              "      <td>2</td>\n",
              "      <td>2</td>\n",
              "      <td>2</td>\n",
              "      <td>1</td>\n",
              "      <td>1</td>\n",
              "      <td>1</td>\n",
              "      <td>1</td>\n",
              "      <td>1</td>\n",
              "      <td>...</td>\n",
              "      <td>1</td>\n",
              "      <td>1</td>\n",
              "      <td>1</td>\n",
              "      <td>1</td>\n",
              "      <td>1</td>\n",
              "      <td>1.5</td>\n",
              "      <td>ZOOM/VIDEO LECTURES</td>\n",
              "      <td>Tutors: Tutors must use a valid appropriate me...</td>\n",
              "      <td>5</td>\n",
              "      <td>10</td>\n",
              "    </tr>\n",
              "    <tr>\n",
              "      <th>171</th>\n",
              "      <td>173</td>\n",
              "      <td>MAX KYEI ASARE</td>\n",
              "      <td>2</td>\n",
              "      <td>1</td>\n",
              "      <td>2</td>\n",
              "      <td>2</td>\n",
              "      <td>1</td>\n",
              "      <td>1</td>\n",
              "      <td>1</td>\n",
              "      <td>1</td>\n",
              "      <td>...</td>\n",
              "      <td>1</td>\n",
              "      <td>1</td>\n",
              "      <td>1</td>\n",
              "      <td>1</td>\n",
              "      <td>1</td>\n",
              "      <td>1.4</td>\n",
              "      <td>ZOOM/VIDEO LECTURES</td>\n",
              "      <td>Government: The government shoulde provide a c...</td>\n",
              "      <td>5</td>\n",
              "      <td>10</td>\n",
              "    </tr>\n",
              "    <tr>\n",
              "      <th>172</th>\n",
              "      <td>174</td>\n",
              "      <td>OWUSU ACHEAMPONG VASTY</td>\n",
              "      <td>2</td>\n",
              "      <td>1</td>\n",
              "      <td>1</td>\n",
              "      <td>1</td>\n",
              "      <td>1</td>\n",
              "      <td>1</td>\n",
              "      <td>1</td>\n",
              "      <td>1</td>\n",
              "      <td>...</td>\n",
              "      <td>1</td>\n",
              "      <td>1</td>\n",
              "      <td>1</td>\n",
              "      <td>1</td>\n",
              "      <td>1</td>\n",
              "      <td>1.4</td>\n",
              "      <td>CHAT</td>\n",
              "      <td>School authorities: The school must provide a ...</td>\n",
              "      <td>5</td>\n",
              "      <td>10</td>\n",
              "    </tr>\n",
              "    <tr>\n",
              "      <th>173</th>\n",
              "      <td>175</td>\n",
              "      <td>PRISCILLA AGYAPOMAA</td>\n",
              "      <td>2</td>\n",
              "      <td>2</td>\n",
              "      <td>1</td>\n",
              "      <td>2</td>\n",
              "      <td>1</td>\n",
              "      <td>1</td>\n",
              "      <td>1</td>\n",
              "      <td>1</td>\n",
              "      <td>...</td>\n",
              "      <td>1</td>\n",
              "      <td>1</td>\n",
              "      <td>1</td>\n",
              "      <td>1</td>\n",
              "      <td>1</td>\n",
              "      <td>1.4</td>\n",
              "      <td>ZOOM/VIDEO LECTURES</td>\n",
              "      <td>Tutors: Tutors should consider the interest of...</td>\n",
              "      <td>5</td>\n",
              "      <td>10</td>\n",
              "    </tr>\n",
              "    <tr>\n",
              "      <th>174</th>\n",
              "      <td>176</td>\n",
              "      <td>VINCENTIA OSEI -TUTU</td>\n",
              "      <td>2</td>\n",
              "      <td>4</td>\n",
              "      <td>1</td>\n",
              "      <td>1</td>\n",
              "      <td>1</td>\n",
              "      <td>1</td>\n",
              "      <td>1</td>\n",
              "      <td>1</td>\n",
              "      <td>...</td>\n",
              "      <td>1</td>\n",
              "      <td>1</td>\n",
              "      <td>1</td>\n",
              "      <td>1</td>\n",
              "      <td>1</td>\n",
              "      <td>1.3</td>\n",
              "      <td>ZOOM/VIDEO LECTURES</td>\n",
              "      <td>Government: The government should provide teac...</td>\n",
              "      <td>5</td>\n",
              "      <td>10</td>\n",
              "    </tr>\n",
              "  </tbody>\n",
              "</table>\n",
              "<p>175 rows × 33 columns</p>\n",
              "</div>\n",
              "      <button class=\"colab-df-convert\" onclick=\"convertToInteractive('df-40e8cb24-2575-4d27-ab16-ad535c0de8c8')\"\n",
              "              title=\"Convert this dataframe to an interactive table.\"\n",
              "              style=\"display:none;\">\n",
              "        \n",
              "  <svg xmlns=\"http://www.w3.org/2000/svg\" height=\"24px\"viewBox=\"0 0 24 24\"\n",
              "       width=\"24px\">\n",
              "    <path d=\"M0 0h24v24H0V0z\" fill=\"none\"/>\n",
              "    <path d=\"M18.56 5.44l.94 2.06.94-2.06 2.06-.94-2.06-.94-.94-2.06-.94 2.06-2.06.94zm-11 1L8.5 8.5l.94-2.06 2.06-.94-2.06-.94L8.5 2.5l-.94 2.06-2.06.94zm10 10l.94 2.06.94-2.06 2.06-.94-2.06-.94-.94-2.06-.94 2.06-2.06.94z\"/><path d=\"M17.41 7.96l-1.37-1.37c-.4-.4-.92-.59-1.43-.59-.52 0-1.04.2-1.43.59L10.3 9.45l-7.72 7.72c-.78.78-.78 2.05 0 2.83L4 21.41c.39.39.9.59 1.41.59.51 0 1.02-.2 1.41-.59l7.78-7.78 2.81-2.81c.8-.78.8-2.07 0-2.86zM5.41 20L4 18.59l7.72-7.72 1.47 1.35L5.41 20z\"/>\n",
              "  </svg>\n",
              "      </button>\n",
              "      \n",
              "  <style>\n",
              "    .colab-df-container {\n",
              "      display:flex;\n",
              "      flex-wrap:wrap;\n",
              "      gap: 12px;\n",
              "    }\n",
              "\n",
              "    .colab-df-convert {\n",
              "      background-color: #E8F0FE;\n",
              "      border: none;\n",
              "      border-radius: 50%;\n",
              "      cursor: pointer;\n",
              "      display: none;\n",
              "      fill: #1967D2;\n",
              "      height: 32px;\n",
              "      padding: 0 0 0 0;\n",
              "      width: 32px;\n",
              "    }\n",
              "\n",
              "    .colab-df-convert:hover {\n",
              "      background-color: #E2EBFA;\n",
              "      box-shadow: 0px 1px 2px rgba(60, 64, 67, 0.3), 0px 1px 3px 1px rgba(60, 64, 67, 0.15);\n",
              "      fill: #174EA6;\n",
              "    }\n",
              "\n",
              "    [theme=dark] .colab-df-convert {\n",
              "      background-color: #3B4455;\n",
              "      fill: #D2E3FC;\n",
              "    }\n",
              "\n",
              "    [theme=dark] .colab-df-convert:hover {\n",
              "      background-color: #434B5C;\n",
              "      box-shadow: 0px 1px 3px 1px rgba(0, 0, 0, 0.15);\n",
              "      filter: drop-shadow(0px 1px 2px rgba(0, 0, 0, 0.3));\n",
              "      fill: #FFFFFF;\n",
              "    }\n",
              "  </style>\n",
              "\n",
              "      <script>\n",
              "        const buttonEl =\n",
              "          document.querySelector('#df-40e8cb24-2575-4d27-ab16-ad535c0de8c8 button.colab-df-convert');\n",
              "        buttonEl.style.display =\n",
              "          google.colab.kernel.accessAllowed ? 'block' : 'none';\n",
              "\n",
              "        async function convertToInteractive(key) {\n",
              "          const element = document.querySelector('#df-40e8cb24-2575-4d27-ab16-ad535c0de8c8');\n",
              "          const dataTable =\n",
              "            await google.colab.kernel.invokeFunction('convertToInteractive',\n",
              "                                                     [key], {});\n",
              "          if (!dataTable) return;\n",
              "\n",
              "          const docLinkHtml = 'Like what you see? Visit the ' +\n",
              "            '<a target=\"_blank\" href=https://colab.research.google.com/notebooks/data_table.ipynb>data table notebook</a>'\n",
              "            + ' to learn more about interactive tables.';\n",
              "          element.innerHTML = '';\n",
              "          dataTable['output_type'] = 'display_data';\n",
              "          await google.colab.output.renderOutput(dataTable, element);\n",
              "          const docLink = document.createElement('div');\n",
              "          docLink.innerHTML = docLinkHtml;\n",
              "          element.appendChild(docLink);\n",
              "        }\n",
              "      </script>\n",
              "    </div>\n",
              "  </div>\n",
              "  "
            ]
          },
          "metadata": {},
          "execution_count": 2
        }
      ],
      "source": [
        "sheet1 = pd.read_excel('Data.xlsx')\n",
        "sheet1['Assignment Score'] = sheet1.iloc[:,18:23].sum(axis=1)\n",
        "sheet1['Class Attendance'] = sheet1.iloc[:,7:17].sum(axis=1)\n",
        "sheet1"
      ]
    },
    {
      "cell_type": "markdown",
      "source": [
        "## Pruning the Dataset\n",
        "The resulting DataFrame, 'gen1', 'gen2', 'gen3', would contain the original data except for the columns that were dropped, effectively retaining only the 'Class Attendance' column and removing the original columns 0 to 29."
      ],
      "metadata": {
        "id": "OxTcHsvnWC8I"
      }
    },
    {
      "cell_type": "code",
      "execution_count": 3,
      "metadata": {
        "id": "fCjrvNQlHj8C",
        "colab": {
          "base_uri": "https://localhost:8080/",
          "height": 1000
        },
        "outputId": "438be61f-dd7c-42ec-cb2f-12b0f4270a09"
      },
      "outputs": [
        {
          "output_type": "execute_result",
          "data": {
            "text/plain": [
              "     Week Two Attendance  Week Three Attendance  Week Four Attendance  \\\n",
              "0                     13                     13                    12   \n",
              "1                     11                     11                    12   \n",
              "2                      8                     13                    14   \n",
              "3                     13                     13                     9   \n",
              "4                     13                     13                    14   \n",
              "..                   ...                    ...                   ...   \n",
              "170                   13                     13                    12   \n",
              "171                   13                     13                    14   \n",
              "172                   13                     13                    14   \n",
              "173                   13                     11                    13   \n",
              "174                   13                     13                    14   \n",
              "\n",
              "     Week Five Attendance  Week Six Attendance  Week Six Attendance  Response  \\\n",
              "0                      13                   14                   13         1   \n",
              "1                       8                   14                   14         2   \n",
              "2                      15                   14                   14         3   \n",
              "3                      15                   14                   14         4   \n",
              "4                      15                   15                   15         5   \n",
              "..                    ...                  ...                  ...       ...   \n",
              "170                    13                   13                   13       172   \n",
              "171                    15                   14                   11       173   \n",
              "172                    15                   14                   15       174   \n",
              "173                    14                   15                   15       175   \n",
              "174                    15                   15                   15       176   \n",
              "\n",
              "                  Full Name  What is your gender  \\\n",
              "0              CASTRO ANANE                    1   \n",
              "1         BEKOE SIMON BOADU                    2   \n",
              "2     JANET BAWUAH AMPONSAH                    1   \n",
              "3      ADELAIDE POKUAA GYAU                    1   \n",
              "4      GODFRED ODURO ANOKYE                    1   \n",
              "..                      ...                  ...   \n",
              "170            MAVIS OPPONG                    2   \n",
              "171          MAX KYEI ASARE                    2   \n",
              "172  OWUSU ACHEAMPONG VASTY                    2   \n",
              "173     PRISCILLA AGYAPOMAA                    2   \n",
              "174    VINCENTIA OSEI -TUTU                    2   \n",
              "\n",
              "     The internet in my home is reliable in terms of signal strength   ...  \\\n",
              "0                                                    4                 ...   \n",
              "1                                                    3                 ...   \n",
              "2                                                    4                 ...   \n",
              "3                                                    2                 ...   \n",
              "4                                                    2                 ...   \n",
              "..                                                 ...                 ...   \n",
              "170                                                  2                 ...   \n",
              "171                                                  1                 ...   \n",
              "172                                                  1                 ...   \n",
              "173                                                  2                 ...   \n",
              "174                                                  4                 ...   \n",
              "\n",
              "     LMS attendance checklist (number of hours students chat tutors) (Friday)  \\\n",
              "0                                                    1                          \n",
              "1                                                    1                          \n",
              "2                                                    1                          \n",
              "3                                                    1                          \n",
              "4                                                    1                          \n",
              "..                                                 ...                          \n",
              "170                                                  1                          \n",
              "171                                                  1                          \n",
              "172                                                  1                          \n",
              "173                                                  1                          \n",
              "174                                                  1                          \n",
              "\n",
              "     LMS Assignments  LMS  Quizzes   LMS access to notes checklist  GPA  \\\n",
              "0                  1              1                              1  3.9   \n",
              "1                  1              1                              1  3.8   \n",
              "2                  1              1                              1  3.8   \n",
              "3                  1              1                              1  3.8   \n",
              "4                  1              1                              1  3.8   \n",
              "..               ...            ...                            ...  ...   \n",
              "170                1              1                              1  1.5   \n",
              "171                1              1                              1  1.4   \n",
              "172                1              1                              1  1.4   \n",
              "173                1              1                              1  1.4   \n",
              "174                1              1                              1  1.3   \n",
              "\n",
              "     What feature in the Learning management system contribute mostly in your academic performance and why?  \\\n",
              "0                                                CHAT                                                         \n",
              "1                                              FORUMN                                                         \n",
              "2                                 ZOOM/VIDEO LECTURES                                                         \n",
              "3                                                FILE                                                         \n",
              "4                                                CHAT                                                         \n",
              "..                                                 ...                                                        \n",
              "170                               ZOOM/VIDEO LECTURES                                                         \n",
              "171                               ZOOM/VIDEO LECTURES                                                         \n",
              "172                                              CHAT                                                         \n",
              "173                               ZOOM/VIDEO LECTURES                                                         \n",
              "174                               ZOOM/VIDEO LECTURES                                                         \n",
              "\n",
              "     How do you expect your academic performance to be improved by  \\\n",
              "0    Governtment: Building of more lecture rooms an...               \n",
              "1    School  authorities: They should continue to r...               \n",
              "2    School  authorities: To provide students handb...               \n",
              "3    Tutors: They should be always be regular and p...               \n",
              "4    Government: The government should pay the allo...               \n",
              "..                                                 ...               \n",
              "170  Tutors: Tutors must use a valid appropriate me...               \n",
              "171  Government: The government shoulde provide a c...               \n",
              "172  School authorities: The school must provide a ...               \n",
              "173  Tutors: Tutors should consider the interest of...               \n",
              "174  Government: The government should provide teac...               \n",
              "\n",
              "     Assignment Score  Class Attendance  Total Attendance  \n",
              "0                   5                10                82  \n",
              "1                   5                10                73  \n",
              "2                   5                 8                88  \n",
              "3                   5                10                81  \n",
              "4                   5                10                90  \n",
              "..                ...               ...               ...  \n",
              "170                 5                10               248  \n",
              "171                 5                10               252  \n",
              "172                 5                10               255  \n",
              "173                 5                10               255  \n",
              "174                 5                10               261  \n",
              "\n",
              "[175 rows x 40 columns]"
            ],
            "text/html": [
              "\n",
              "  <div id=\"df-2589330f-a6a7-4137-a9f0-23fd670ba2ac\">\n",
              "    <div class=\"colab-df-container\">\n",
              "      <div>\n",
              "<style scoped>\n",
              "    .dataframe tbody tr th:only-of-type {\n",
              "        vertical-align: middle;\n",
              "    }\n",
              "\n",
              "    .dataframe tbody tr th {\n",
              "        vertical-align: top;\n",
              "    }\n",
              "\n",
              "    .dataframe thead th {\n",
              "        text-align: right;\n",
              "    }\n",
              "</style>\n",
              "<table border=\"1\" class=\"dataframe\">\n",
              "  <thead>\n",
              "    <tr style=\"text-align: right;\">\n",
              "      <th></th>\n",
              "      <th>Week Two Attendance</th>\n",
              "      <th>Week Three Attendance</th>\n",
              "      <th>Week Four Attendance</th>\n",
              "      <th>Week Five Attendance</th>\n",
              "      <th>Week Six Attendance</th>\n",
              "      <th>Week Six Attendance</th>\n",
              "      <th>Response</th>\n",
              "      <th>Full Name</th>\n",
              "      <th>What is your gender</th>\n",
              "      <th>The internet in my home is reliable in terms of signal strength</th>\n",
              "      <th>...</th>\n",
              "      <th>LMS attendance checklist (number of hours students chat tutors) (Friday)</th>\n",
              "      <th>LMS Assignments</th>\n",
              "      <th>LMS  Quizzes</th>\n",
              "      <th>LMS access to notes checklist</th>\n",
              "      <th>GPA</th>\n",
              "      <th>What feature in the Learning management system contribute mostly in your academic performance and why?</th>\n",
              "      <th>How do you expect your academic performance to be improved by</th>\n",
              "      <th>Assignment Score</th>\n",
              "      <th>Class Attendance</th>\n",
              "      <th>Total Attendance</th>\n",
              "    </tr>\n",
              "  </thead>\n",
              "  <tbody>\n",
              "    <tr>\n",
              "      <th>0</th>\n",
              "      <td>13</td>\n",
              "      <td>13</td>\n",
              "      <td>12</td>\n",
              "      <td>13</td>\n",
              "      <td>14</td>\n",
              "      <td>13</td>\n",
              "      <td>1</td>\n",
              "      <td>CASTRO ANANE</td>\n",
              "      <td>1</td>\n",
              "      <td>4</td>\n",
              "      <td>...</td>\n",
              "      <td>1</td>\n",
              "      <td>1</td>\n",
              "      <td>1</td>\n",
              "      <td>1</td>\n",
              "      <td>3.9</td>\n",
              "      <td>CHAT</td>\n",
              "      <td>Governtment: Building of more lecture rooms an...</td>\n",
              "      <td>5</td>\n",
              "      <td>10</td>\n",
              "      <td>82</td>\n",
              "    </tr>\n",
              "    <tr>\n",
              "      <th>1</th>\n",
              "      <td>11</td>\n",
              "      <td>11</td>\n",
              "      <td>12</td>\n",
              "      <td>8</td>\n",
              "      <td>14</td>\n",
              "      <td>14</td>\n",
              "      <td>2</td>\n",
              "      <td>BEKOE SIMON BOADU</td>\n",
              "      <td>2</td>\n",
              "      <td>3</td>\n",
              "      <td>...</td>\n",
              "      <td>1</td>\n",
              "      <td>1</td>\n",
              "      <td>1</td>\n",
              "      <td>1</td>\n",
              "      <td>3.8</td>\n",
              "      <td>FORUMN</td>\n",
              "      <td>School  authorities: They should continue to r...</td>\n",
              "      <td>5</td>\n",
              "      <td>10</td>\n",
              "      <td>73</td>\n",
              "    </tr>\n",
              "    <tr>\n",
              "      <th>2</th>\n",
              "      <td>8</td>\n",
              "      <td>13</td>\n",
              "      <td>14</td>\n",
              "      <td>15</td>\n",
              "      <td>14</td>\n",
              "      <td>14</td>\n",
              "      <td>3</td>\n",
              "      <td>JANET BAWUAH AMPONSAH</td>\n",
              "      <td>1</td>\n",
              "      <td>4</td>\n",
              "      <td>...</td>\n",
              "      <td>1</td>\n",
              "      <td>1</td>\n",
              "      <td>1</td>\n",
              "      <td>1</td>\n",
              "      <td>3.8</td>\n",
              "      <td>ZOOM/VIDEO LECTURES</td>\n",
              "      <td>School  authorities: To provide students handb...</td>\n",
              "      <td>5</td>\n",
              "      <td>8</td>\n",
              "      <td>88</td>\n",
              "    </tr>\n",
              "    <tr>\n",
              "      <th>3</th>\n",
              "      <td>13</td>\n",
              "      <td>13</td>\n",
              "      <td>9</td>\n",
              "      <td>15</td>\n",
              "      <td>14</td>\n",
              "      <td>14</td>\n",
              "      <td>4</td>\n",
              "      <td>ADELAIDE POKUAA GYAU</td>\n",
              "      <td>1</td>\n",
              "      <td>2</td>\n",
              "      <td>...</td>\n",
              "      <td>1</td>\n",
              "      <td>1</td>\n",
              "      <td>1</td>\n",
              "      <td>1</td>\n",
              "      <td>3.8</td>\n",
              "      <td>FILE</td>\n",
              "      <td>Tutors: They should be always be regular and p...</td>\n",
              "      <td>5</td>\n",
              "      <td>10</td>\n",
              "      <td>81</td>\n",
              "    </tr>\n",
              "    <tr>\n",
              "      <th>4</th>\n",
              "      <td>13</td>\n",
              "      <td>13</td>\n",
              "      <td>14</td>\n",
              "      <td>15</td>\n",
              "      <td>15</td>\n",
              "      <td>15</td>\n",
              "      <td>5</td>\n",
              "      <td>GODFRED ODURO ANOKYE</td>\n",
              "      <td>1</td>\n",
              "      <td>2</td>\n",
              "      <td>...</td>\n",
              "      <td>1</td>\n",
              "      <td>1</td>\n",
              "      <td>1</td>\n",
              "      <td>1</td>\n",
              "      <td>3.8</td>\n",
              "      <td>CHAT</td>\n",
              "      <td>Government: The government should pay the allo...</td>\n",
              "      <td>5</td>\n",
              "      <td>10</td>\n",
              "      <td>90</td>\n",
              "    </tr>\n",
              "    <tr>\n",
              "      <th>...</th>\n",
              "      <td>...</td>\n",
              "      <td>...</td>\n",
              "      <td>...</td>\n",
              "      <td>...</td>\n",
              "      <td>...</td>\n",
              "      <td>...</td>\n",
              "      <td>...</td>\n",
              "      <td>...</td>\n",
              "      <td>...</td>\n",
              "      <td>...</td>\n",
              "      <td>...</td>\n",
              "      <td>...</td>\n",
              "      <td>...</td>\n",
              "      <td>...</td>\n",
              "      <td>...</td>\n",
              "      <td>...</td>\n",
              "      <td>...</td>\n",
              "      <td>...</td>\n",
              "      <td>...</td>\n",
              "      <td>...</td>\n",
              "      <td>...</td>\n",
              "    </tr>\n",
              "    <tr>\n",
              "      <th>170</th>\n",
              "      <td>13</td>\n",
              "      <td>13</td>\n",
              "      <td>12</td>\n",
              "      <td>13</td>\n",
              "      <td>13</td>\n",
              "      <td>13</td>\n",
              "      <td>172</td>\n",
              "      <td>MAVIS OPPONG</td>\n",
              "      <td>2</td>\n",
              "      <td>2</td>\n",
              "      <td>...</td>\n",
              "      <td>1</td>\n",
              "      <td>1</td>\n",
              "      <td>1</td>\n",
              "      <td>1</td>\n",
              "      <td>1.5</td>\n",
              "      <td>ZOOM/VIDEO LECTURES</td>\n",
              "      <td>Tutors: Tutors must use a valid appropriate me...</td>\n",
              "      <td>5</td>\n",
              "      <td>10</td>\n",
              "      <td>248</td>\n",
              "    </tr>\n",
              "    <tr>\n",
              "      <th>171</th>\n",
              "      <td>13</td>\n",
              "      <td>13</td>\n",
              "      <td>14</td>\n",
              "      <td>15</td>\n",
              "      <td>14</td>\n",
              "      <td>11</td>\n",
              "      <td>173</td>\n",
              "      <td>MAX KYEI ASARE</td>\n",
              "      <td>2</td>\n",
              "      <td>1</td>\n",
              "      <td>...</td>\n",
              "      <td>1</td>\n",
              "      <td>1</td>\n",
              "      <td>1</td>\n",
              "      <td>1</td>\n",
              "      <td>1.4</td>\n",
              "      <td>ZOOM/VIDEO LECTURES</td>\n",
              "      <td>Government: The government shoulde provide a c...</td>\n",
              "      <td>5</td>\n",
              "      <td>10</td>\n",
              "      <td>252</td>\n",
              "    </tr>\n",
              "    <tr>\n",
              "      <th>172</th>\n",
              "      <td>13</td>\n",
              "      <td>13</td>\n",
              "      <td>14</td>\n",
              "      <td>15</td>\n",
              "      <td>14</td>\n",
              "      <td>15</td>\n",
              "      <td>174</td>\n",
              "      <td>OWUSU ACHEAMPONG VASTY</td>\n",
              "      <td>2</td>\n",
              "      <td>1</td>\n",
              "      <td>...</td>\n",
              "      <td>1</td>\n",
              "      <td>1</td>\n",
              "      <td>1</td>\n",
              "      <td>1</td>\n",
              "      <td>1.4</td>\n",
              "      <td>CHAT</td>\n",
              "      <td>School authorities: The school must provide a ...</td>\n",
              "      <td>5</td>\n",
              "      <td>10</td>\n",
              "      <td>255</td>\n",
              "    </tr>\n",
              "    <tr>\n",
              "      <th>173</th>\n",
              "      <td>13</td>\n",
              "      <td>11</td>\n",
              "      <td>13</td>\n",
              "      <td>14</td>\n",
              "      <td>15</td>\n",
              "      <td>15</td>\n",
              "      <td>175</td>\n",
              "      <td>PRISCILLA AGYAPOMAA</td>\n",
              "      <td>2</td>\n",
              "      <td>2</td>\n",
              "      <td>...</td>\n",
              "      <td>1</td>\n",
              "      <td>1</td>\n",
              "      <td>1</td>\n",
              "      <td>1</td>\n",
              "      <td>1.4</td>\n",
              "      <td>ZOOM/VIDEO LECTURES</td>\n",
              "      <td>Tutors: Tutors should consider the interest of...</td>\n",
              "      <td>5</td>\n",
              "      <td>10</td>\n",
              "      <td>255</td>\n",
              "    </tr>\n",
              "    <tr>\n",
              "      <th>174</th>\n",
              "      <td>13</td>\n",
              "      <td>13</td>\n",
              "      <td>14</td>\n",
              "      <td>15</td>\n",
              "      <td>15</td>\n",
              "      <td>15</td>\n",
              "      <td>176</td>\n",
              "      <td>VINCENTIA OSEI -TUTU</td>\n",
              "      <td>2</td>\n",
              "      <td>4</td>\n",
              "      <td>...</td>\n",
              "      <td>1</td>\n",
              "      <td>1</td>\n",
              "      <td>1</td>\n",
              "      <td>1</td>\n",
              "      <td>1.3</td>\n",
              "      <td>ZOOM/VIDEO LECTURES</td>\n",
              "      <td>Government: The government should provide teac...</td>\n",
              "      <td>5</td>\n",
              "      <td>10</td>\n",
              "      <td>261</td>\n",
              "    </tr>\n",
              "  </tbody>\n",
              "</table>\n",
              "<p>175 rows × 40 columns</p>\n",
              "</div>\n",
              "      <button class=\"colab-df-convert\" onclick=\"convertToInteractive('df-2589330f-a6a7-4137-a9f0-23fd670ba2ac')\"\n",
              "              title=\"Convert this dataframe to an interactive table.\"\n",
              "              style=\"display:none;\">\n",
              "        \n",
              "  <svg xmlns=\"http://www.w3.org/2000/svg\" height=\"24px\"viewBox=\"0 0 24 24\"\n",
              "       width=\"24px\">\n",
              "    <path d=\"M0 0h24v24H0V0z\" fill=\"none\"/>\n",
              "    <path d=\"M18.56 5.44l.94 2.06.94-2.06 2.06-.94-2.06-.94-.94-2.06-.94 2.06-2.06.94zm-11 1L8.5 8.5l.94-2.06 2.06-.94-2.06-.94L8.5 2.5l-.94 2.06-2.06.94zm10 10l.94 2.06.94-2.06 2.06-.94-2.06-.94-.94-2.06-.94 2.06-2.06.94z\"/><path d=\"M17.41 7.96l-1.37-1.37c-.4-.4-.92-.59-1.43-.59-.52 0-1.04.2-1.43.59L10.3 9.45l-7.72 7.72c-.78.78-.78 2.05 0 2.83L4 21.41c.39.39.9.59 1.41.59.51 0 1.02-.2 1.41-.59l7.78-7.78 2.81-2.81c.8-.78.8-2.07 0-2.86zM5.41 20L4 18.59l7.72-7.72 1.47 1.35L5.41 20z\"/>\n",
              "  </svg>\n",
              "      </button>\n",
              "      \n",
              "  <style>\n",
              "    .colab-df-container {\n",
              "      display:flex;\n",
              "      flex-wrap:wrap;\n",
              "      gap: 12px;\n",
              "    }\n",
              "\n",
              "    .colab-df-convert {\n",
              "      background-color: #E8F0FE;\n",
              "      border: none;\n",
              "      border-radius: 50%;\n",
              "      cursor: pointer;\n",
              "      display: none;\n",
              "      fill: #1967D2;\n",
              "      height: 32px;\n",
              "      padding: 0 0 0 0;\n",
              "      width: 32px;\n",
              "    }\n",
              "\n",
              "    .colab-df-convert:hover {\n",
              "      background-color: #E2EBFA;\n",
              "      box-shadow: 0px 1px 2px rgba(60, 64, 67, 0.3), 0px 1px 3px 1px rgba(60, 64, 67, 0.15);\n",
              "      fill: #174EA6;\n",
              "    }\n",
              "\n",
              "    [theme=dark] .colab-df-convert {\n",
              "      background-color: #3B4455;\n",
              "      fill: #D2E3FC;\n",
              "    }\n",
              "\n",
              "    [theme=dark] .colab-df-convert:hover {\n",
              "      background-color: #434B5C;\n",
              "      box-shadow: 0px 1px 3px 1px rgba(0, 0, 0, 0.15);\n",
              "      filter: drop-shadow(0px 1px 2px rgba(0, 0, 0, 0.3));\n",
              "      fill: #FFFFFF;\n",
              "    }\n",
              "  </style>\n",
              "\n",
              "      <script>\n",
              "        const buttonEl =\n",
              "          document.querySelector('#df-2589330f-a6a7-4137-a9f0-23fd670ba2ac button.colab-df-convert');\n",
              "        buttonEl.style.display =\n",
              "          google.colab.kernel.accessAllowed ? 'block' : 'none';\n",
              "\n",
              "        async function convertToInteractive(key) {\n",
              "          const element = document.querySelector('#df-2589330f-a6a7-4137-a9f0-23fd670ba2ac');\n",
              "          const dataTable =\n",
              "            await google.colab.kernel.invokeFunction('convertToInteractive',\n",
              "                                                     [key], {});\n",
              "          if (!dataTable) return;\n",
              "\n",
              "          const docLinkHtml = 'Like what you see? Visit the ' +\n",
              "            '<a target=\"_blank\" href=https://colab.research.google.com/notebooks/data_table.ipynb>data table notebook</a>'\n",
              "            + ' to learn more about interactive tables.';\n",
              "          element.innerHTML = '';\n",
              "          dataTable['output_type'] = 'display_data';\n",
              "          await google.colab.output.renderOutput(dataTable, element);\n",
              "          const docLink = document.createElement('div');\n",
              "          docLink.innerHTML = docLinkHtml;\n",
              "          element.appendChild(docLink);\n",
              "        }\n",
              "      </script>\n",
              "    </div>\n",
              "  </div>\n",
              "  "
            ]
          },
          "metadata": {},
          "execution_count": 3
        }
      ],
      "source": [
        "import warnings\n",
        "warnings.filterwarnings(\"ignore\")\n",
        "\n",
        "week1 = pd.read_excel('attendance 2.xlsx')\n",
        "week1['Week Two Attendance'] = week1.iloc[:, 1:16].sum(axis=1)\n",
        "column_groups = [list(range(0, 16))]\n",
        "week1.drop(week1.columns[column_groups], axis=1, inplace=True)\n",
        "\n",
        "week2 = pd.read_excel('attendance 3.xlsx')\n",
        "week2['Week Three Attendance'] = week2.iloc[:, 1:16].sum(axis=1)\n",
        "column_groups = [list(range(0, 16))]\n",
        "week2.drop(week2.columns[column_groups], axis=1, inplace=True)\n",
        "\n",
        "week3 = pd.read_excel('attendance 4.xlsx')\n",
        "week3['Week Four Attendance'] = week3.iloc[:, 1:16].sum(axis=1)\n",
        "column_groups = [list(range(0, 16))]\n",
        "week3.drop(week3.columns[column_groups], axis=1, inplace=True)\n",
        "\n",
        "week5 = pd.read_excel('Week 6.xlsx')\n",
        "week5['Week Six Attendance'] = week5.iloc[:, 1:16].sum(axis=1)\n",
        "column_groups = [list(range(0, 16))]\n",
        "week5.drop(week5.columns[column_groups], axis=1, inplace=True)\n",
        "\n",
        "week4 = pd.read_excel('attendance 5.xlsx')\n",
        "week4['Week Five Attendance'] = week4.iloc[:, 1:16].sum(axis=1)\n",
        "column_groups = [list(range(0, 16))]\n",
        "week4.drop(week4.columns[column_groups], axis=1, inplace=True)\n",
        "\n",
        "week6 = pd.read_excel('Week 7.xlsx')\n",
        "week6['Week Six Attendance'] = week6.iloc[:, 1:16].sum(axis=1)\n",
        "column_groups = [list(range(0, 16))]\n",
        "week6.drop(week6.columns[column_groups], axis=1, inplace=True)\n",
        "\n",
        "combined_file = pd.concat([week1, week2, week3, week4, week5, week6, sheet1], axis=1)\n",
        "combined_file['Total Attendance'] = combined_file.iloc[:, 1:17].sum(axis=1)\n",
        "cdf = combined_file\n",
        "combined_file"
      ]
    },
    {
      "cell_type": "markdown",
      "source": [
        "# Data Preprocessing 1\n",
        "Before building the hybrid model, I performed several preprocessing steps to ensure data quality and compatibility with the chosen classifiers.\n"
      ],
      "metadata": {
        "id": "C3RfIb_ipWaQ"
      }
    },
    {
      "cell_type": "markdown",
      "source": [
        "### Dataset Description:\n",
        "For this project, I gathered a dataset that includes information from class assignments, quizzes, class attendance records, and internet usage. Each data source has its corresponding attributes that provide relevant insights into student performance.\n"
      ],
      "metadata": {
        "id": "w1_sgIEgpmKx"
      }
    },
    {
      "cell_type": "code",
      "source": [
        "combined_file.dtypes"
      ],
      "metadata": {
        "colab": {
          "base_uri": "https://localhost:8080/"
        },
        "id": "LAFA6lAk8cK4",
        "outputId": "dc9b5d6b-be5d-4086-e0db-bb6f8a686196"
      },
      "execution_count": 4,
      "outputs": [
        {
          "output_type": "execute_result",
          "data": {
            "text/plain": [
              "Week Two Attendance                                                                                         int64\n",
              "Week Three Attendance                                                                                       int64\n",
              "Week Four Attendance                                                                                        int64\n",
              "Week Five Attendance                                                                                        int64\n",
              "Week Six Attendance                                                                                         int64\n",
              "Week Six Attendance                                                                                         int64\n",
              "Response                                                                                                    int64\n",
              "Full Name                                                                                                  object\n",
              "What is your gender                                                                                         int64\n",
              "The internet in my home is reliable in terms of signal strength                                             int64\n",
              "The internet in terms of signal strength on campus is reliable                                              int64\n",
              "The lighten system in my classroom and dormitory is reliable                                                int64\n",
              "The lighten system on campus is reliable                                                                    int64\n",
              "Class attendance checklist Monday                                                                           int64\n",
              "Class attendance checklist Tuesday                                                                          int64\n",
              "Class attendance checklist Wednesday                                                                        int64\n",
              "Class attendance checklist Thursday                                                                         int64\n",
              "Class attendance checklist Friday                                                                           int64\n",
              "Prep attendance checklist Monday                                                                            int64\n",
              "Prep attendance checklist Tuesday                                                                           int64\n",
              "Prep attendance checklist Wednesday                                                                         int64\n",
              "Prep attendance checklist Thursday                                                                          int64\n",
              "Prep attendance checklist  Friday                                                                           int64\n",
              "Assignments                                                                                                 int64\n",
              "Quizzes                                                                                                     int64\n",
              "Class exercise checklist                                                                                    int64\n",
              "LMS attendance checklist (number of hours students chat tutors) (Monday)                                    int64\n",
              "LMS attendance checklist (number of hours students chat tutors) (Tuesday)                                   int64\n",
              "LMS attendance checklist (number of hours students chat tutors) (Wednesday)                                 int64\n",
              "LMS attendance checklist (number of hours students chat tutors) (Thursday)                                  int64\n",
              "LMS attendance checklist (number of hours students chat tutors) (Friday)                                    int64\n",
              "LMS Assignments                                                                                             int64\n",
              "LMS  Quizzes                                                                                                int64\n",
              "LMS access to notes checklist                                                                               int64\n",
              "GPA                                                                                                       float64\n",
              "What feature in the Learning management system contribute mostly in your academic performance and why?     object\n",
              "How do you expect your academic performance to be improved by                                              object\n",
              "Assignment Score                                                                                            int64\n",
              "Class Attendance                                                                                            int64\n",
              "Total Attendance                                                                                            int64\n",
              "dtype: object"
            ]
          },
          "metadata": {},
          "execution_count": 4
        }
      ]
    },
    {
      "cell_type": "code",
      "execution_count": 5,
      "metadata": {
        "id": "RB-nd87Lk86m",
        "colab": {
          "base_uri": "https://localhost:8080/"
        },
        "outputId": "d7da7f5e-94e8-4076-ff08-44912f8ab7f3"
      },
      "outputs": [
        {
          "output_type": "execute_result",
          "data": {
            "text/plain": [
              "Week Two Attendance                                                                                        10\n",
              "Week Three Attendance                                                                                       8\n",
              "Week Four Attendance                                                                                        8\n",
              "Week Five Attendance                                                                                        9\n",
              "Week Six Attendance                                                                                         8\n",
              "Week Six Attendance                                                                                         7\n",
              "Response                                                                                                  175\n",
              "Full Name                                                                                                 147\n",
              "What is your gender                                                                                         2\n",
              "The internet in my home is reliable in terms of signal strength                                             4\n",
              "The internet in terms of signal strength on campus is reliable                                              4\n",
              "The lighten system in my classroom and dormitory is reliable                                                4\n",
              "The lighten system on campus is reliable                                                                    4\n",
              "Class attendance checklist Monday                                                                           2\n",
              "Class attendance checklist Tuesday                                                                          2\n",
              "Class attendance checklist Wednesday                                                                        2\n",
              "Class attendance checklist Thursday                                                                         2\n",
              "Class attendance checklist Friday                                                                           2\n",
              "Prep attendance checklist Monday                                                                            2\n",
              "Prep attendance checklist Tuesday                                                                           2\n",
              "Prep attendance checklist Wednesday                                                                         2\n",
              "Prep attendance checklist Thursday                                                                          2\n",
              "Prep attendance checklist  Friday                                                                           2\n",
              "Assignments                                                                                                 2\n",
              "Quizzes                                                                                                     2\n",
              "Class exercise checklist                                                                                    2\n",
              "LMS attendance checklist (number of hours students chat tutors) (Monday)                                    2\n",
              "LMS attendance checklist (number of hours students chat tutors) (Tuesday)                                   2\n",
              "LMS attendance checklist (number of hours students chat tutors) (Wednesday)                                 3\n",
              "LMS attendance checklist (number of hours students chat tutors) (Thursday)                                  2\n",
              "LMS attendance checklist (number of hours students chat tutors) (Friday)                                    2\n",
              "LMS Assignments                                                                                             2\n",
              "LMS  Quizzes                                                                                                2\n",
              "LMS access to notes checklist                                                                               2\n",
              "GPA                                                                                                        24\n",
              "What feature in the Learning management system contribute mostly in your academic performance and why?      4\n",
              "How do you expect your academic performance to be improved by                                             174\n",
              "Assignment Score                                                                                            7\n",
              "Class Attendance                                                                                            8\n",
              "Total Attendance                                                                                          118\n",
              "dtype: int64"
            ]
          },
          "metadata": {},
          "execution_count": 5
        }
      ],
      "source": [
        "combined_file.nunique()"
      ]
    },
    {
      "cell_type": "code",
      "source": [
        "combined_file = combined_file.drop([\n",
        "    'Response',\n",
        "    'Full Name',\n",
        "    'What feature in the Learning management system contribute mostly in your academic performance and why?',\n",
        "    'Class exercise checklist',\n",
        "    'LMS attendance checklist (number of hours students chat tutors) (Monday)',\n",
        "    'LMS attendance checklist (number of hours students chat tutors) (Tuesday)',\n",
        "    'LMS attendance checklist (number of hours students chat tutors) (Wednesday)',\n",
        "    'LMS attendance checklist (number of hours students chat tutors) (Thursday)',\n",
        "    'LMS attendance checklist (number of hours students chat tutors) (Friday)'\n",
        "                                    ], axis=1)\n",
        "combined_file.head()"
      ],
      "metadata": {
        "colab": {
          "base_uri": "https://localhost:8080/",
          "height": 785
        },
        "id": "So6tzvkS88us",
        "outputId": "3b742e7a-bf75-40ae-fafd-a3caeaf34e5a"
      },
      "execution_count": 6,
      "outputs": [
        {
          "output_type": "execute_result",
          "data": {
            "text/plain": [
              "   Week Two Attendance  Week Three Attendance  Week Four Attendance  \\\n",
              "0                   13                     13                    12   \n",
              "1                   11                     11                    12   \n",
              "2                    8                     13                    14   \n",
              "3                   13                     13                     9   \n",
              "4                   13                     13                    14   \n",
              "\n",
              "   Week Five Attendance  Week Six Attendance  Week Six Attendance  \\\n",
              "0                    13                   14                   13   \n",
              "1                     8                   14                   14   \n",
              "2                    15                   14                   14   \n",
              "3                    15                   14                   14   \n",
              "4                    15                   15                   15   \n",
              "\n",
              "   What is your gender  \\\n",
              "0                    1   \n",
              "1                    2   \n",
              "2                    1   \n",
              "3                    1   \n",
              "4                    1   \n",
              "\n",
              "   The internet in my home is reliable in terms of signal strength   \\\n",
              "0                                                  4                  \n",
              "1                                                  3                  \n",
              "2                                                  4                  \n",
              "3                                                  2                  \n",
              "4                                                  2                  \n",
              "\n",
              "   The internet in terms of signal strength on campus is reliable   \\\n",
              "0                                                  3                 \n",
              "1                                                  1                 \n",
              "2                                                  2                 \n",
              "3                                                  2                 \n",
              "4                                                  2                 \n",
              "\n",
              "   The lighten system in my classroom and dormitory is reliable  ...  \\\n",
              "0                                                  3             ...   \n",
              "1                                                  1             ...   \n",
              "2                                                  3             ...   \n",
              "3                                                  1             ...   \n",
              "4                                                  2             ...   \n",
              "\n",
              "   Assignments  Quizzes  LMS Assignments  LMS  Quizzes   \\\n",
              "0            1        1                1              1   \n",
              "1            1        1                1              1   \n",
              "2            1        1                1              1   \n",
              "3            1        1                1              1   \n",
              "4            1        1                1              1   \n",
              "\n",
              "   LMS access to notes checklist  GPA  \\\n",
              "0                              1  3.9   \n",
              "1                              1  3.8   \n",
              "2                              1  3.8   \n",
              "3                              1  3.8   \n",
              "4                              1  3.8   \n",
              "\n",
              "   How do you expect your academic performance to be improved by  \\\n",
              "0  Governtment: Building of more lecture rooms an...               \n",
              "1  School  authorities: They should continue to r...               \n",
              "2  School  authorities: To provide students handb...               \n",
              "3  Tutors: They should be always be regular and p...               \n",
              "4  Government: The government should pay the allo...               \n",
              "\n",
              "   Assignment Score  Class Attendance  Total Attendance  \n",
              "0                 5                10                82  \n",
              "1                 5                10                73  \n",
              "2                 5                 8                88  \n",
              "3                 5                10                81  \n",
              "4                 5                10                90  \n",
              "\n",
              "[5 rows x 31 columns]"
            ],
            "text/html": [
              "\n",
              "  <div id=\"df-2c65a0e1-9321-48b7-8082-2baaaccf582d\">\n",
              "    <div class=\"colab-df-container\">\n",
              "      <div>\n",
              "<style scoped>\n",
              "    .dataframe tbody tr th:only-of-type {\n",
              "        vertical-align: middle;\n",
              "    }\n",
              "\n",
              "    .dataframe tbody tr th {\n",
              "        vertical-align: top;\n",
              "    }\n",
              "\n",
              "    .dataframe thead th {\n",
              "        text-align: right;\n",
              "    }\n",
              "</style>\n",
              "<table border=\"1\" class=\"dataframe\">\n",
              "  <thead>\n",
              "    <tr style=\"text-align: right;\">\n",
              "      <th></th>\n",
              "      <th>Week Two Attendance</th>\n",
              "      <th>Week Three Attendance</th>\n",
              "      <th>Week Four Attendance</th>\n",
              "      <th>Week Five Attendance</th>\n",
              "      <th>Week Six Attendance</th>\n",
              "      <th>Week Six Attendance</th>\n",
              "      <th>What is your gender</th>\n",
              "      <th>The internet in my home is reliable in terms of signal strength</th>\n",
              "      <th>The internet in terms of signal strength on campus is reliable</th>\n",
              "      <th>The lighten system in my classroom and dormitory is reliable</th>\n",
              "      <th>...</th>\n",
              "      <th>Assignments</th>\n",
              "      <th>Quizzes</th>\n",
              "      <th>LMS Assignments</th>\n",
              "      <th>LMS  Quizzes</th>\n",
              "      <th>LMS access to notes checklist</th>\n",
              "      <th>GPA</th>\n",
              "      <th>How do you expect your academic performance to be improved by</th>\n",
              "      <th>Assignment Score</th>\n",
              "      <th>Class Attendance</th>\n",
              "      <th>Total Attendance</th>\n",
              "    </tr>\n",
              "  </thead>\n",
              "  <tbody>\n",
              "    <tr>\n",
              "      <th>0</th>\n",
              "      <td>13</td>\n",
              "      <td>13</td>\n",
              "      <td>12</td>\n",
              "      <td>13</td>\n",
              "      <td>14</td>\n",
              "      <td>13</td>\n",
              "      <td>1</td>\n",
              "      <td>4</td>\n",
              "      <td>3</td>\n",
              "      <td>3</td>\n",
              "      <td>...</td>\n",
              "      <td>1</td>\n",
              "      <td>1</td>\n",
              "      <td>1</td>\n",
              "      <td>1</td>\n",
              "      <td>1</td>\n",
              "      <td>3.9</td>\n",
              "      <td>Governtment: Building of more lecture rooms an...</td>\n",
              "      <td>5</td>\n",
              "      <td>10</td>\n",
              "      <td>82</td>\n",
              "    </tr>\n",
              "    <tr>\n",
              "      <th>1</th>\n",
              "      <td>11</td>\n",
              "      <td>11</td>\n",
              "      <td>12</td>\n",
              "      <td>8</td>\n",
              "      <td>14</td>\n",
              "      <td>14</td>\n",
              "      <td>2</td>\n",
              "      <td>3</td>\n",
              "      <td>1</td>\n",
              "      <td>1</td>\n",
              "      <td>...</td>\n",
              "      <td>1</td>\n",
              "      <td>1</td>\n",
              "      <td>1</td>\n",
              "      <td>1</td>\n",
              "      <td>1</td>\n",
              "      <td>3.8</td>\n",
              "      <td>School  authorities: They should continue to r...</td>\n",
              "      <td>5</td>\n",
              "      <td>10</td>\n",
              "      <td>73</td>\n",
              "    </tr>\n",
              "    <tr>\n",
              "      <th>2</th>\n",
              "      <td>8</td>\n",
              "      <td>13</td>\n",
              "      <td>14</td>\n",
              "      <td>15</td>\n",
              "      <td>14</td>\n",
              "      <td>14</td>\n",
              "      <td>1</td>\n",
              "      <td>4</td>\n",
              "      <td>2</td>\n",
              "      <td>3</td>\n",
              "      <td>...</td>\n",
              "      <td>1</td>\n",
              "      <td>1</td>\n",
              "      <td>1</td>\n",
              "      <td>1</td>\n",
              "      <td>1</td>\n",
              "      <td>3.8</td>\n",
              "      <td>School  authorities: To provide students handb...</td>\n",
              "      <td>5</td>\n",
              "      <td>8</td>\n",
              "      <td>88</td>\n",
              "    </tr>\n",
              "    <tr>\n",
              "      <th>3</th>\n",
              "      <td>13</td>\n",
              "      <td>13</td>\n",
              "      <td>9</td>\n",
              "      <td>15</td>\n",
              "      <td>14</td>\n",
              "      <td>14</td>\n",
              "      <td>1</td>\n",
              "      <td>2</td>\n",
              "      <td>2</td>\n",
              "      <td>1</td>\n",
              "      <td>...</td>\n",
              "      <td>1</td>\n",
              "      <td>1</td>\n",
              "      <td>1</td>\n",
              "      <td>1</td>\n",
              "      <td>1</td>\n",
              "      <td>3.8</td>\n",
              "      <td>Tutors: They should be always be regular and p...</td>\n",
              "      <td>5</td>\n",
              "      <td>10</td>\n",
              "      <td>81</td>\n",
              "    </tr>\n",
              "    <tr>\n",
              "      <th>4</th>\n",
              "      <td>13</td>\n",
              "      <td>13</td>\n",
              "      <td>14</td>\n",
              "      <td>15</td>\n",
              "      <td>15</td>\n",
              "      <td>15</td>\n",
              "      <td>1</td>\n",
              "      <td>2</td>\n",
              "      <td>2</td>\n",
              "      <td>2</td>\n",
              "      <td>...</td>\n",
              "      <td>1</td>\n",
              "      <td>1</td>\n",
              "      <td>1</td>\n",
              "      <td>1</td>\n",
              "      <td>1</td>\n",
              "      <td>3.8</td>\n",
              "      <td>Government: The government should pay the allo...</td>\n",
              "      <td>5</td>\n",
              "      <td>10</td>\n",
              "      <td>90</td>\n",
              "    </tr>\n",
              "  </tbody>\n",
              "</table>\n",
              "<p>5 rows × 31 columns</p>\n",
              "</div>\n",
              "      <button class=\"colab-df-convert\" onclick=\"convertToInteractive('df-2c65a0e1-9321-48b7-8082-2baaaccf582d')\"\n",
              "              title=\"Convert this dataframe to an interactive table.\"\n",
              "              style=\"display:none;\">\n",
              "        \n",
              "  <svg xmlns=\"http://www.w3.org/2000/svg\" height=\"24px\"viewBox=\"0 0 24 24\"\n",
              "       width=\"24px\">\n",
              "    <path d=\"M0 0h24v24H0V0z\" fill=\"none\"/>\n",
              "    <path d=\"M18.56 5.44l.94 2.06.94-2.06 2.06-.94-2.06-.94-.94-2.06-.94 2.06-2.06.94zm-11 1L8.5 8.5l.94-2.06 2.06-.94-2.06-.94L8.5 2.5l-.94 2.06-2.06.94zm10 10l.94 2.06.94-2.06 2.06-.94-2.06-.94-.94-2.06-.94 2.06-2.06.94z\"/><path d=\"M17.41 7.96l-1.37-1.37c-.4-.4-.92-.59-1.43-.59-.52 0-1.04.2-1.43.59L10.3 9.45l-7.72 7.72c-.78.78-.78 2.05 0 2.83L4 21.41c.39.39.9.59 1.41.59.51 0 1.02-.2 1.41-.59l7.78-7.78 2.81-2.81c.8-.78.8-2.07 0-2.86zM5.41 20L4 18.59l7.72-7.72 1.47 1.35L5.41 20z\"/>\n",
              "  </svg>\n",
              "      </button>\n",
              "      \n",
              "  <style>\n",
              "    .colab-df-container {\n",
              "      display:flex;\n",
              "      flex-wrap:wrap;\n",
              "      gap: 12px;\n",
              "    }\n",
              "\n",
              "    .colab-df-convert {\n",
              "      background-color: #E8F0FE;\n",
              "      border: none;\n",
              "      border-radius: 50%;\n",
              "      cursor: pointer;\n",
              "      display: none;\n",
              "      fill: #1967D2;\n",
              "      height: 32px;\n",
              "      padding: 0 0 0 0;\n",
              "      width: 32px;\n",
              "    }\n",
              "\n",
              "    .colab-df-convert:hover {\n",
              "      background-color: #E2EBFA;\n",
              "      box-shadow: 0px 1px 2px rgba(60, 64, 67, 0.3), 0px 1px 3px 1px rgba(60, 64, 67, 0.15);\n",
              "      fill: #174EA6;\n",
              "    }\n",
              "\n",
              "    [theme=dark] .colab-df-convert {\n",
              "      background-color: #3B4455;\n",
              "      fill: #D2E3FC;\n",
              "    }\n",
              "\n",
              "    [theme=dark] .colab-df-convert:hover {\n",
              "      background-color: #434B5C;\n",
              "      box-shadow: 0px 1px 3px 1px rgba(0, 0, 0, 0.15);\n",
              "      filter: drop-shadow(0px 1px 2px rgba(0, 0, 0, 0.3));\n",
              "      fill: #FFFFFF;\n",
              "    }\n",
              "  </style>\n",
              "\n",
              "      <script>\n",
              "        const buttonEl =\n",
              "          document.querySelector('#df-2c65a0e1-9321-48b7-8082-2baaaccf582d button.colab-df-convert');\n",
              "        buttonEl.style.display =\n",
              "          google.colab.kernel.accessAllowed ? 'block' : 'none';\n",
              "\n",
              "        async function convertToInteractive(key) {\n",
              "          const element = document.querySelector('#df-2c65a0e1-9321-48b7-8082-2baaaccf582d');\n",
              "          const dataTable =\n",
              "            await google.colab.kernel.invokeFunction('convertToInteractive',\n",
              "                                                     [key], {});\n",
              "          if (!dataTable) return;\n",
              "\n",
              "          const docLinkHtml = 'Like what you see? Visit the ' +\n",
              "            '<a target=\"_blank\" href=https://colab.research.google.com/notebooks/data_table.ipynb>data table notebook</a>'\n",
              "            + ' to learn more about interactive tables.';\n",
              "          element.innerHTML = '';\n",
              "          dataTable['output_type'] = 'display_data';\n",
              "          await google.colab.output.renderOutput(dataTable, element);\n",
              "          const docLink = document.createElement('div');\n",
              "          docLink.innerHTML = docLinkHtml;\n",
              "          element.appendChild(docLink);\n",
              "        }\n",
              "      </script>\n",
              "    </div>\n",
              "  </div>\n",
              "  "
            ]
          },
          "metadata": {},
          "execution_count": 6
        }
      ]
    },
    {
      "cell_type": "code",
      "source": [
        "scores = sheet1.columns[sheet1.columns.str.contains('gender ')].tolist()\n",
        "for score in scores:\n",
        "    sns.barplot(x=sheet1[score], y=sheet1['Assignment Score'])\n",
        "    plt.show()\n",
        "\n",
        "    for score in scores:\n",
        "    sns.barplot(x=sheet1[score], y=sheet1['Class Attendance'])\n",
        "    plt.show()"
      ],
      "metadata": {
        "id": "wg5ebx3U_HzT"
      },
      "execution_count": 60,
      "outputs": []
    },
    {
      "cell_type": "code",
      "source": [
        "ct = sheet1.columns[sheet1.columns.str.contains('internet ')].tolist()"
      ],
      "metadata": {
        "id": "JsQdPO_5_S2q"
      },
      "execution_count": 65,
      "outputs": []
    },
    {
      "cell_type": "code",
      "source": [
        "for ct in ct:\n",
        "    sns.barplot(y=sheet1[ct], x=sheet1['Assignment Score'])\n",
        "    plt.show()"
      ],
      "metadata": {
        "colab": {
          "base_uri": "https://localhost:8080/",
          "height": 881
        },
        "id": "GjiPYjO4_WCQ",
        "outputId": "6683d373-5c68-479f-a4f9-4a3a86808057"
      },
      "execution_count": 66,
      "outputs": [
        {
          "output_type": "display_data",
          "data": {
            "text/plain": [
              "<Figure size 640x480 with 1 Axes>"
            ],
            "image/png": "[encoded data removed]"
          },
          "metadata": {}
        },
        {
          "output_type": "display_data",
          "data": {
            "text/plain": [
              "<Figure size 640x480 with 1 Axes>"
            ],
            "image/png": "[encoded data removed]"
          },
          "metadata": {}
        }
      ]
    },
    {
      "cell_type": "code",
      "source": [
        "ct = sheet1.columns[sheet1.columns.str.contains('internet ')].tolist()\n",
        "for ct in ct:\n",
        "    sns.barplot(y=sheet1[ct], x=sheet1['Class Attendance'])\n",
        "    plt.show()"
      ],
      "metadata": {
        "colab": {
          "base_uri": "https://localhost:8080/",
          "height": 881
        },
        "id": "QWGjYTFh_eRa",
        "outputId": "171c59ba-7b56-430c-c609-6b646f213c04"
      },
      "execution_count": 67,
      "outputs": [
        {
          "output_type": "display_data",
          "data": {
            "text/plain": [
              "<Figure size 640x480 with 1 Axes>"
            ],
            "image/png": "[encoded data removed]"
          },
          "metadata": {}
        },
        {
          "output_type": "display_data",
          "data": {
            "text/plain": [
              "<Figure size 640x480 with 1 Axes>"
            ],
            "image/png": "[encoded data removed]"
          },
          "metadata": {}
        }
      ]
    },
    {
      "cell_type": "code",
      "source": [
        "scores = sheet1.columns[sheet1.columns.str.contains('lighten ')].tolist()\n",
        "scores"
      ],
      "metadata": {
        "colab": {
          "base_uri": "https://localhost:8080/"
        },
        "id": "Uiu21ixv_kc5",
        "outputId": "6cc771cd-e091-4b97-f32e-82e9accb5b42"
      },
      "execution_count": 69,
      "outputs": [
        {
          "output_type": "execute_result",
          "data": {
            "text/plain": [
              "['The lighten system in my classroom and dormitory is reliable',\n",
              " 'The lighten system on campus is reliable ']"
            ]
          },
          "metadata": {},
          "execution_count": 69
        }
      ]
    },
    {
      "cell_type": "code",
      "source": [
        "for score in scores:\n",
        "    sns.barplot(y=sheet1[score], x=sheet1['Assignment Score'])\n",
        "    plt.show()\n",
        "\n",
        "for score in scores:\n",
        "    sns.barplot(y=sheet1[score], x=sheet1['Class Attendance'])\n",
        "    plt.show()"
      ],
      "metadata": {
        "colab": {
          "base_uri": "https://localhost:8080/",
          "height": 1000
        },
        "id": "n8QPqqbX_n7O",
        "outputId": "827b550b-dee1-40dd-a75c-29cceddb2d68"
      },
      "execution_count": 70,
      "outputs": [
        {
          "output_type": "display_data",
          "data": {
            "text/plain": [
              "<Figure size 640x480 with 1 Axes>"
            ],
            "image/png": "[encoded data removed]"
          },
          "metadata": {}
        },
        {
          "output_type": "display_data",
          "data": {
            "text/plain": [
              "<Figure size 640x480 with 1 Axes>"
            ],
            "image/png": "[encoded data removed]"
          },
          "metadata": {}
        },
        {
          "output_type": "display_data",
          "data": {
            "text/plain": [
              "<Figure size 640x480 with 1 Axes>"
            ],
            "image/png": "[encoded data removed]"
          },
          "metadata": {}
        },
        {
          "output_type": "display_data",
          "data": {
            "text/plain": [
              "<Figure size 640x480 with 1 Axes>"
            ],
            "image/png": "[encoded data removed]"
          },
          "metadata": {}
        }
      ]
    },
    {
      "cell_type": "markdown",
      "source": [
        "## Checking the skewness and kurtosis\n",
        "the code generates a histogram plot with a kernel density estimate for a specific variable ('score') from the 'combined_file' DataFrame. The plot provides insights into the distribution of the data, while the text annotation displays the skewness and kurtosis values, providing additional statistical information about the variable's shape."
      ],
      "metadata": {
        "id": "I96FdKLOazcJ"
      }
    },
    {
      "cell_type": "code",
      "source": [
        "scores = combined_file.columns[combined_file.columns.str.contains('Total Attendance')].tolist()\n",
        "scores"
      ],
      "metadata": {
        "colab": {
          "base_uri": "https://localhost:8080/"
        },
        "id": "SkQGuqel_yzS",
        "outputId": "74845604-2b6c-4207-df56-80f8591e67d3"
      },
      "execution_count": 13,
      "outputs": [
        {
          "output_type": "execute_result",
          "data": {
            "text/plain": [
              "['Total Attendance']"
            ]
          },
          "metadata": {},
          "execution_count": 13
        }
      ]
    },
    {
      "cell_type": "code",
      "source": [
        "for score in scores:\n",
        "    sns.histplot(combined_file[score], element='bars', kde=True)\n",
        "    plt.text(x=20, y=20, s=f\"Skew: {round(combined_file[score].skew(),2)}\\nKurtosis: {round(combined_file[score].kurt(),2)}\")\n",
        "    plt.show()"
      ],
      "metadata": {
        "colab": {
          "base_uri": "https://localhost:8080/",
          "height": 449
        },
        "id": "LIRFE7bP_1bU",
        "outputId": "b9719fa1-666b-48d9-aa79-1e4756f8c70e"
      },
      "execution_count": 14,
      "outputs": [
        {
          "output_type": "display_data",
          "data": {
            "text/plain": [
              "<Figure size 640x480 with 1 Axes>"
            ],
            "image/png": "[encoded data removed]"
          },
          "metadata": {}
        }
      ]
    },
    {
      "cell_type": "code",
      "source": [
        "combined_file.describe()"
      ],
      "metadata": {
        "colab": {
          "base_uri": "https://localhost:8080/",
          "height": 532
        },
        "id": "HpewmeSCALzx",
        "outputId": "5a0465d8-3605-44f4-d7e5-9076b613fc73"
      },
      "execution_count": 15,
      "outputs": [
        {
          "output_type": "execute_result",
          "data": {
            "text/plain": [
              "       Week Two Attendance  Week Three Attendance  Week Four Attendance  \\\n",
              "count           175.000000             175.000000            175.000000   \n",
              "mean             12.234286              12.480000             13.320000   \n",
              "std               1.754132               1.294728              1.381487   \n",
              "min               4.000000               6.000000              7.000000   \n",
              "25%              13.000000              13.000000             13.000000   \n",
              "50%              13.000000              13.000000             14.000000   \n",
              "75%              13.000000              13.000000             14.000000   \n",
              "max              13.000000              13.000000             14.000000   \n",
              "\n",
              "       Week Five Attendance  Week Six Attendance  Week Six Attendance  \\\n",
              "count            175.000000           175.000000           175.000000   \n",
              "mean              14.182857            13.920000            14.045714   \n",
              "std                1.462459             1.580921             1.258612   \n",
              "min                5.000000             8.000000             8.000000   \n",
              "25%               14.000000            14.000000            14.000000   \n",
              "50%               15.000000            14.000000            14.000000   \n",
              "75%               15.000000            15.000000            15.000000   \n",
              "max               15.000000            15.000000            15.000000   \n",
              "\n",
              "       What is your gender  \\\n",
              "count           175.000000   \n",
              "mean              1.514286   \n",
              "std               0.501230   \n",
              "min               1.000000   \n",
              "25%               1.000000   \n",
              "50%               2.000000   \n",
              "75%               2.000000   \n",
              "max               2.000000   \n",
              "\n",
              "       The internet in my home is reliable in terms of signal strength   \\\n",
              "count                                         175.000000                  \n",
              "mean                                            2.428571                  \n",
              "std                                             0.860557                  \n",
              "min                                             1.000000                  \n",
              "25%                                             2.000000                  \n",
              "50%                                             2.000000                  \n",
              "75%                                             3.000000                  \n",
              "max                                             4.000000                  \n",
              "\n",
              "       The internet in terms of signal strength on campus is reliable   \\\n",
              "count                                         175.000000                 \n",
              "mean                                            1.702857                 \n",
              "std                                             0.737145                 \n",
              "min                                             1.000000                 \n",
              "25%                                             1.000000                 \n",
              "50%                                             2.000000                 \n",
              "75%                                             2.000000                 \n",
              "max                                             4.000000                 \n",
              "\n",
              "       The lighten system in my classroom and dormitory is reliable  ...  \\\n",
              "count                                         175.000000             ...   \n",
              "mean                                            1.914286             ...   \n",
              "std                                             0.883157             ...   \n",
              "min                                             1.000000             ...   \n",
              "25%                                             1.000000             ...   \n",
              "50%                                             2.000000             ...   \n",
              "75%                                             2.000000             ...   \n",
              "max                                             4.000000             ...   \n",
              "\n",
              "       Prep attendance checklist  Friday  Assignments     Quizzes  \\\n",
              "count                         175.000000   175.000000  175.000000   \n",
              "mean                            0.960000     0.914286    0.954286   \n",
              "std                             0.196521     0.280745    0.209464   \n",
              "min                             0.000000     0.000000    0.000000   \n",
              "25%                             1.000000     1.000000    1.000000   \n",
              "50%                             1.000000     1.000000    1.000000   \n",
              "75%                             1.000000     1.000000    1.000000   \n",
              "max                             1.000000     1.000000    1.000000   \n",
              "\n",
              "       LMS Assignments  LMS  Quizzes   LMS access to notes checklist  \\\n",
              "count       175.000000     175.000000                     175.000000   \n",
              "mean          0.937143       0.965714                       0.925714   \n",
              "std           0.243402       0.182484                       0.262988   \n",
              "min           0.000000       0.000000                       0.000000   \n",
              "25%           1.000000       1.000000                       1.000000   \n",
              "50%           1.000000       1.000000                       1.000000   \n",
              "75%           1.000000       1.000000                       1.000000   \n",
              "max           1.000000       1.000000                       1.000000   \n",
              "\n",
              "              GPA  Assignment Score  Class Attendance  Total Attendance  \n",
              "count  175.000000        175.000000        175.000000        175.000000  \n",
              "mean     2.868571          4.622857          9.514286        169.680000  \n",
              "std      0.737646          1.191706          1.596898         51.782596  \n",
              "min      1.300000          0.000000          2.000000         73.000000  \n",
              "25%      2.550000          5.000000         10.000000        127.000000  \n",
              "50%      3.100000          5.000000         10.000000        170.000000  \n",
              "75%      3.400000          5.000000         10.000000        212.000000  \n",
              "max      3.900000         13.000000         10.000000        261.000000  \n",
              "\n",
              "[8 rows x 30 columns]"
            ],
            "text/html": [
              "\n",
              "  <div id=\"df-983fdb1f-e553-4408-aa51-a23914ee976a\">\n",
              "    <div class=\"colab-df-container\">\n",
              "      <div>\n",
              "<style scoped>\n",
              "    .dataframe tbody tr th:only-of-type {\n",
              "        vertical-align: middle;\n",
              "    }\n",
              "\n",
              "    .dataframe tbody tr th {\n",
              "        vertical-align: top;\n",
              "    }\n",
              "\n",
              "    .dataframe thead th {\n",
              "        text-align: right;\n",
              "    }\n",
              "</style>\n",
              "<table border=\"1\" class=\"dataframe\">\n",
              "  <thead>\n",
              "    <tr style=\"text-align: right;\">\n",
              "      <th></th>\n",
              "      <th>Week Two Attendance</th>\n",
              "      <th>Week Three Attendance</th>\n",
              "      <th>Week Four Attendance</th>\n",
              "      <th>Week Five Attendance</th>\n",
              "      <th>Week Six Attendance</th>\n",
              "      <th>Week Six Attendance</th>\n",
              "      <th>What is your gender</th>\n",
              "      <th>The internet in my home is reliable in terms of signal strength</th>\n",
              "      <th>The internet in terms of signal strength on campus is reliable</th>\n",
              "      <th>The lighten system in my classroom and dormitory is reliable</th>\n",
              "      <th>...</th>\n",
              "      <th>Prep attendance checklist  Friday</th>\n",
              "      <th>Assignments</th>\n",
              "      <th>Quizzes</th>\n",
              "      <th>LMS Assignments</th>\n",
              "      <th>LMS  Quizzes</th>\n",
              "      <th>LMS access to notes checklist</th>\n",
              "      <th>GPA</th>\n",
              "      <th>Assignment Score</th>\n",
              "      <th>Class Attendance</th>\n",
              "      <th>Total Attendance</th>\n",
              "    </tr>\n",
              "  </thead>\n",
              "  <tbody>\n",
              "    <tr>\n",
              "      <th>count</th>\n",
              "      <td>175.000000</td>\n",
              "      <td>175.000000</td>\n",
              "      <td>175.000000</td>\n",
              "      <td>175.000000</td>\n",
              "      <td>175.000000</td>\n",
              "      <td>175.000000</td>\n",
              "      <td>175.000000</td>\n",
              "      <td>175.000000</td>\n",
              "      <td>175.000000</td>\n",
              "      <td>175.000000</td>\n",
              "      <td>...</td>\n",
              "      <td>175.000000</td>\n",
              "      <td>175.000000</td>\n",
              "      <td>175.000000</td>\n",
              "      <td>175.000000</td>\n",
              "      <td>175.000000</td>\n",
              "      <td>175.000000</td>\n",
              "      <td>175.000000</td>\n",
              "      <td>175.000000</td>\n",
              "      <td>175.000000</td>\n",
              "      <td>175.000000</td>\n",
              "    </tr>\n",
              "    <tr>\n",
              "      <th>mean</th>\n",
              "      <td>12.234286</td>\n",
              "      <td>12.480000</td>\n",
              "      <td>13.320000</td>\n",
              "      <td>14.182857</td>\n",
              "      <td>13.920000</td>\n",
              "      <td>14.045714</td>\n",
              "      <td>1.514286</td>\n",
              "      <td>2.428571</td>\n",
              "      <td>1.702857</td>\n",
              "      <td>1.914286</td>\n",
              "      <td>...</td>\n",
              "      <td>0.960000</td>\n",
              "      <td>0.914286</td>\n",
              "      <td>0.954286</td>\n",
              "      <td>0.937143</td>\n",
              "      <td>0.965714</td>\n",
              "      <td>0.925714</td>\n",
              "      <td>2.868571</td>\n",
              "      <td>4.622857</td>\n",
              "      <td>9.514286</td>\n",
              "      <td>169.680000</td>\n",
              "    </tr>\n",
              "    <tr>\n",
              "      <th>std</th>\n",
              "      <td>1.754132</td>\n",
              "      <td>1.294728</td>\n",
              "      <td>1.381487</td>\n",
              "      <td>1.462459</td>\n",
              "      <td>1.580921</td>\n",
              "      <td>1.258612</td>\n",
              "      <td>0.501230</td>\n",
              "      <td>0.860557</td>\n",
              "      <td>0.737145</td>\n",
              "      <td>0.883157</td>\n",
              "      <td>...</td>\n",
              "      <td>0.196521</td>\n",
              "      <td>0.280745</td>\n",
              "      <td>0.209464</td>\n",
              "      <td>0.243402</td>\n",
              "      <td>0.182484</td>\n",
              "      <td>0.262988</td>\n",
              "      <td>0.737646</td>\n",
              "      <td>1.191706</td>\n",
              "      <td>1.596898</td>\n",
              "      <td>51.782596</td>\n",
              "    </tr>\n",
              "    <tr>\n",
              "      <th>min</th>\n",
              "      <td>4.000000</td>\n",
              "      <td>6.000000</td>\n",
              "      <td>7.000000</td>\n",
              "      <td>5.000000</td>\n",
              "      <td>8.000000</td>\n",
              "      <td>8.000000</td>\n",
              "      <td>1.000000</td>\n",
              "      <td>1.000000</td>\n",
              "      <td>1.000000</td>\n",
              "      <td>1.000000</td>\n",
              "      <td>...</td>\n",
              "      <td>0.000000</td>\n",
              "      <td>0.000000</td>\n",
              "      <td>0.000000</td>\n",
              "      <td>0.000000</td>\n",
              "      <td>0.000000</td>\n",
              "      <td>0.000000</td>\n",
              "      <td>1.300000</td>\n",
              "      <td>0.000000</td>\n",
              "      <td>2.000000</td>\n",
              "      <td>73.000000</td>\n",
              "    </tr>\n",
              "    <tr>\n",
              "      <th>25%</th>\n",
              "      <td>13.000000</td>\n",
              "      <td>13.000000</td>\n",
              "      <td>13.000000</td>\n",
              "      <td>14.000000</td>\n",
              "      <td>14.000000</td>\n",
              "      <td>14.000000</td>\n",
              "      <td>1.000000</td>\n",
              "      <td>2.000000</td>\n",
              "      <td>1.000000</td>\n",
              "      <td>1.000000</td>\n",
              "      <td>...</td>\n",
              "      <td>1.000000</td>\n",
              "      <td>1.000000</td>\n",
              "      <td>1.000000</td>\n",
              "      <td>1.000000</td>\n",
              "      <td>1.000000</td>\n",
              "      <td>1.000000</td>\n",
              "      <td>2.550000</td>\n",
              "      <td>5.000000</td>\n",
              "      <td>10.000000</td>\n",
              "      <td>127.000000</td>\n",
              "    </tr>\n",
              "    <tr>\n",
              "      <th>50%</th>\n",
              "      <td>13.000000</td>\n",
              "      <td>13.000000</td>\n",
              "      <td>14.000000</td>\n",
              "      <td>15.000000</td>\n",
              "      <td>14.000000</td>\n",
              "      <td>14.000000</td>\n",
              "      <td>2.000000</td>\n",
              "      <td>2.000000</td>\n",
              "      <td>2.000000</td>\n",
              "      <td>2.000000</td>\n",
              "      <td>...</td>\n",
              "      <td>1.000000</td>\n",
              "      <td>1.000000</td>\n",
              "      <td>1.000000</td>\n",
              "      <td>1.000000</td>\n",
              "      <td>1.000000</td>\n",
              "      <td>1.000000</td>\n",
              "      <td>3.100000</td>\n",
              "      <td>5.000000</td>\n",
              "      <td>10.000000</td>\n",
              "      <td>170.000000</td>\n",
              "    </tr>\n",
              "    <tr>\n",
              "      <th>75%</th>\n",
              "      <td>13.000000</td>\n",
              "      <td>13.000000</td>\n",
              "      <td>14.000000</td>\n",
              "      <td>15.000000</td>\n",
              "      <td>15.000000</td>\n",
              "      <td>15.000000</td>\n",
              "      <td>2.000000</td>\n",
              "      <td>3.000000</td>\n",
              "      <td>2.000000</td>\n",
              "      <td>2.000000</td>\n",
              "      <td>...</td>\n",
              "      <td>1.000000</td>\n",
              "      <td>1.000000</td>\n",
              "      <td>1.000000</td>\n",
              "      <td>1.000000</td>\n",
              "      <td>1.000000</td>\n",
              "      <td>1.000000</td>\n",
              "      <td>3.400000</td>\n",
              "      <td>5.000000</td>\n",
              "      <td>10.000000</td>\n",
              "      <td>212.000000</td>\n",
              "    </tr>\n",
              "    <tr>\n",
              "      <th>max</th>\n",
              "      <td>13.000000</td>\n",
              "      <td>13.000000</td>\n",
              "      <td>14.000000</td>\n",
              "      <td>15.000000</td>\n",
              "      <td>15.000000</td>\n",
              "      <td>15.000000</td>\n",
              "      <td>2.000000</td>\n",
              "      <td>4.000000</td>\n",
              "      <td>4.000000</td>\n",
              "      <td>4.000000</td>\n",
              "      <td>...</td>\n",
              "      <td>1.000000</td>\n",
              "      <td>1.000000</td>\n",
              "      <td>1.000000</td>\n",
              "      <td>1.000000</td>\n",
              "      <td>1.000000</td>\n",
              "      <td>1.000000</td>\n",
              "      <td>3.900000</td>\n",
              "      <td>13.000000</td>\n",
              "      <td>10.000000</td>\n",
              "      <td>261.000000</td>\n",
              "    </tr>\n",
              "  </tbody>\n",
              "</table>\n",
              "<p>8 rows × 30 columns</p>\n",
              "</div>\n",
              "      <button class=\"colab-df-convert\" onclick=\"convertToInteractive('df-983fdb1f-e553-4408-aa51-a23914ee976a')\"\n",
              "              title=\"Convert this dataframe to an interactive table.\"\n",
              "              style=\"display:none;\">\n",
              "        \n",
              "  <svg xmlns=\"http://www.w3.org/2000/svg\" height=\"24px\"viewBox=\"0 0 24 24\"\n",
              "       width=\"24px\">\n",
              "    <path d=\"M0 0h24v24H0V0z\" fill=\"none\"/>\n",
              "    <path d=\"M18.56 5.44l.94 2.06.94-2.06 2.06-.94-2.06-.94-.94-2.06-.94 2.06-2.06.94zm-11 1L8.5 8.5l.94-2.06 2.06-.94-2.06-.94L8.5 2.5l-.94 2.06-2.06.94zm10 10l.94 2.06.94-2.06 2.06-.94-2.06-.94-.94-2.06-.94 2.06-2.06.94z\"/><path d=\"M17.41 7.96l-1.37-1.37c-.4-.4-.92-.59-1.43-.59-.52 0-1.04.2-1.43.59L10.3 9.45l-7.72 7.72c-.78.78-.78 2.05 0 2.83L4 21.41c.39.39.9.59 1.41.59.51 0 1.02-.2 1.41-.59l7.78-7.78 2.81-2.81c.8-.78.8-2.07 0-2.86zM5.41 20L4 18.59l7.72-7.72 1.47 1.35L5.41 20z\"/>\n",
              "  </svg>\n",
              "      </button>\n",
              "      \n",
              "  <style>\n",
              "    .colab-df-container {\n",
              "      display:flex;\n",
              "      flex-wrap:wrap;\n",
              "      gap: 12px;\n",
              "    }\n",
              "\n",
              "    .colab-df-convert {\n",
              "      background-color: #E8F0FE;\n",
              "      border: none;\n",
              "      border-radius: 50%;\n",
              "      cursor: pointer;\n",
              "      display: none;\n",
              "      fill: #1967D2;\n",
              "      height: 32px;\n",
              "      padding: 0 0 0 0;\n",
              "      width: 32px;\n",
              "    }\n",
              "\n",
              "    .colab-df-convert:hover {\n",
              "      background-color: #E2EBFA;\n",
              "      box-shadow: 0px 1px 2px rgba(60, 64, 67, 0.3), 0px 1px 3px 1px rgba(60, 64, 67, 0.15);\n",
              "      fill: #174EA6;\n",
              "    }\n",
              "\n",
              "    [theme=dark] .colab-df-convert {\n",
              "      background-color: #3B4455;\n",
              "      fill: #D2E3FC;\n",
              "    }\n",
              "\n",
              "    [theme=dark] .colab-df-convert:hover {\n",
              "      background-color: #434B5C;\n",
              "      box-shadow: 0px 1px 3px 1px rgba(0, 0, 0, 0.15);\n",
              "      filter: drop-shadow(0px 1px 2px rgba(0, 0, 0, 0.3));\n",
              "      fill: #FFFFFF;\n",
              "    }\n",
              "  </style>\n",
              "\n",
              "      <script>\n",
              "        const buttonEl =\n",
              "          document.querySelector('#df-983fdb1f-e553-4408-aa51-a23914ee976a button.colab-df-convert');\n",
              "        buttonEl.style.display =\n",
              "          google.colab.kernel.accessAllowed ? 'block' : 'none';\n",
              "\n",
              "        async function convertToInteractive(key) {\n",
              "          const element = document.querySelector('#df-983fdb1f-e553-4408-aa51-a23914ee976a');\n",
              "          const dataTable =\n",
              "            await google.colab.kernel.invokeFunction('convertToInteractive',\n",
              "                                                     [key], {});\n",
              "          if (!dataTable) return;\n",
              "\n",
              "          const docLinkHtml = 'Like what you see? Visit the ' +\n",
              "            '<a target=\"_blank\" href=https://colab.research.google.com/notebooks/data_table.ipynb>data table notebook</a>'\n",
              "            + ' to learn more about interactive tables.';\n",
              "          element.innerHTML = '';\n",
              "          dataTable['output_type'] = 'display_data';\n",
              "          await google.colab.output.renderOutput(dataTable, element);\n",
              "          const docLink = document.createElement('div');\n",
              "          docLink.innerHTML = docLinkHtml;\n",
              "          element.appendChild(docLink);\n",
              "        }\n",
              "      </script>\n",
              "    </div>\n",
              "  </div>\n",
              "  "
            ]
          },
          "metadata": {},
          "execution_count": 15
        }
      ]
    },
    {
      "cell_type": "markdown",
      "source": [
        "## Data Preprocessing 2\n",
        "\n",
        "---\n",
        "\n"
      ],
      "metadata": {
        "id": "pkpXlKXsa_rj"
      }
    },
    {
      "cell_type": "code",
      "source": [
        "cdf = cdf.drop([\n",
        "  'Full Name',\n",
        " 'The internet in my home is reliable in terms of signal strength ',\n",
        " 'The internet in terms of signal strength on campus is reliable ',\n",
        " 'The lighten system in my classroom and dormitory is reliable',\n",
        " 'The lighten system on campus is reliable ',\n",
        " 'Class attendance checklist Monday ',\n",
        " 'Class attendance checklist Tuesday',\n",
        " 'Class attendance checklist Wednesday',\n",
        " 'Class attendance checklist Thursday',\n",
        " 'Class attendance checklist Friday',\n",
        " 'Prep attendance checklist Monday ',\n",
        " 'Prep attendance checklist Tuesday',\n",
        " 'Prep attendance checklist Wednesday',\n",
        " 'Prep attendance checklist Thursday',\n",
        " 'Prep attendance checklist  Friday',\n",
        " 'Class exercise checklist',\n",
        "  \"Week Six Attendance\",\n",
        "  \"Response\",\n",
        "  \"Class Attendance\",\n",
        "  \"Total Attendance\",\n",
        "  \"Assignments\",\n",
        " 'LMS attendance checklist (number of hours students chat tutors) (Monday)',\n",
        " 'LMS attendance checklist (number of hours students chat tutors) (Tuesday)',\n",
        " 'LMS attendance checklist (number of hours students chat tutors) (Wednesday)',\n",
        " 'LMS attendance checklist (number of hours students chat tutors) (Thursday)',\n",
        " 'LMS attendance checklist (number of hours students chat tutors) (Friday)',\n",
        " 'LMS Assignments',\n",
        " 'Quizzes',\n",
        " 'LMS access to notes checklist',\n",
        " 'What feature in the Learning management system contribute mostly in your academic performance and why?',\n",
        " 'How do you expect your academic performance to be improved by',\n",
        " ], axis=1)\n",
        "cdf.head()"
      ],
      "metadata": {
        "colab": {
          "base_uri": "https://localhost:8080/",
          "height": 206
        },
        "id": "mW5q7BB7GNes",
        "outputId": "b775ae08-a2f5-42f5-b92f-cbf51ffe646d"
      },
      "execution_count": 16,
      "outputs": [
        {
          "output_type": "execute_result",
          "data": {
            "text/plain": [
              "   Week Two Attendance  Week Three Attendance  Week Four Attendance  \\\n",
              "0                   13                     13                    12   \n",
              "1                   11                     11                    12   \n",
              "2                    8                     13                    14   \n",
              "3                   13                     13                     9   \n",
              "4                   13                     13                    14   \n",
              "\n",
              "   Week Five Attendance  What is your gender  LMS  Quizzes   GPA  \\\n",
              "0                    13                    1              1  3.9   \n",
              "1                     8                    2              1  3.8   \n",
              "2                    15                    1              1  3.8   \n",
              "3                    15                    1              1  3.8   \n",
              "4                    15                    1              1  3.8   \n",
              "\n",
              "   Assignment Score  \n",
              "0                 5  \n",
              "1                 5  \n",
              "2                 5  \n",
              "3                 5  \n",
              "4                 5  "
            ],
            "text/html": [
              "\n",
              "  <div id=\"df-b6143110-2ec0-4b89-81d8-27ce662201d5\">\n",
              "    <div class=\"colab-df-container\">\n",
              "      <div>\n",
              "<style scoped>\n",
              "    .dataframe tbody tr th:only-of-type {\n",
              "        vertical-align: middle;\n",
              "    }\n",
              "\n",
              "    .dataframe tbody tr th {\n",
              "        vertical-align: top;\n",
              "    }\n",
              "\n",
              "    .dataframe thead th {\n",
              "        text-align: right;\n",
              "    }\n",
              "</style>\n",
              "<table border=\"1\" class=\"dataframe\">\n",
              "  <thead>\n",
              "    <tr style=\"text-align: right;\">\n",
              "      <th></th>\n",
              "      <th>Week Two Attendance</th>\n",
              "      <th>Week Three Attendance</th>\n",
              "      <th>Week Four Attendance</th>\n",
              "      <th>Week Five Attendance</th>\n",
              "      <th>What is your gender</th>\n",
              "      <th>LMS  Quizzes</th>\n",
              "      <th>GPA</th>\n",
              "      <th>Assignment Score</th>\n",
              "    </tr>\n",
              "  </thead>\n",
              "  <tbody>\n",
              "    <tr>\n",
              "      <th>0</th>\n",
              "      <td>13</td>\n",
              "      <td>13</td>\n",
              "      <td>12</td>\n",
              "      <td>13</td>\n",
              "      <td>1</td>\n",
              "      <td>1</td>\n",
              "      <td>3.9</td>\n",
              "      <td>5</td>\n",
              "    </tr>\n",
              "    <tr>\n",
              "      <th>1</th>\n",
              "      <td>11</td>\n",
              "      <td>11</td>\n",
              "      <td>12</td>\n",
              "      <td>8</td>\n",
              "      <td>2</td>\n",
              "      <td>1</td>\n",
              "      <td>3.8</td>\n",
              "      <td>5</td>\n",
              "    </tr>\n",
              "    <tr>\n",
              "      <th>2</th>\n",
              "      <td>8</td>\n",
              "      <td>13</td>\n",
              "      <td>14</td>\n",
              "      <td>15</td>\n",
              "      <td>1</td>\n",
              "      <td>1</td>\n",
              "      <td>3.8</td>\n",
              "      <td>5</td>\n",
              "    </tr>\n",
              "    <tr>\n",
              "      <th>3</th>\n",
              "      <td>13</td>\n",
              "      <td>13</td>\n",
              "      <td>9</td>\n",
              "      <td>15</td>\n",
              "      <td>1</td>\n",
              "      <td>1</td>\n",
              "      <td>3.8</td>\n",
              "      <td>5</td>\n",
              "    </tr>\n",
              "    <tr>\n",
              "      <th>4</th>\n",
              "      <td>13</td>\n",
              "      <td>13</td>\n",
              "      <td>14</td>\n",
              "      <td>15</td>\n",
              "      <td>1</td>\n",
              "      <td>1</td>\n",
              "      <td>3.8</td>\n",
              "      <td>5</td>\n",
              "    </tr>\n",
              "  </tbody>\n",
              "</table>\n",
              "</div>\n",
              "      <button class=\"colab-df-convert\" onclick=\"convertToInteractive('df-b6143110-2ec0-4b89-81d8-27ce662201d5')\"\n",
              "              title=\"Convert this dataframe to an interactive table.\"\n",
              "              style=\"display:none;\">\n",
              "        \n",
              "  <svg xmlns=\"http://www.w3.org/2000/svg\" height=\"24px\"viewBox=\"0 0 24 24\"\n",
              "       width=\"24px\">\n",
              "    <path d=\"M0 0h24v24H0V0z\" fill=\"none\"/>\n",
              "    <path d=\"M18.56 5.44l.94 2.06.94-2.06 2.06-.94-2.06-.94-.94-2.06-.94 2.06-2.06.94zm-11 1L8.5 8.5l.94-2.06 2.06-.94-2.06-.94L8.5 2.5l-.94 2.06-2.06.94zm10 10l.94 2.06.94-2.06 2.06-.94-2.06-.94-.94-2.06-.94 2.06-2.06.94z\"/><path d=\"M17.41 7.96l-1.37-1.37c-.4-.4-.92-.59-1.43-.59-.52 0-1.04.2-1.43.59L10.3 9.45l-7.72 7.72c-.78.78-.78 2.05 0 2.83L4 21.41c.39.39.9.59 1.41.59.51 0 1.02-.2 1.41-.59l7.78-7.78 2.81-2.81c.8-.78.8-2.07 0-2.86zM5.41 20L4 18.59l7.72-7.72 1.47 1.35L5.41 20z\"/>\n",
              "  </svg>\n",
              "      </button>\n",
              "      \n",
              "  <style>\n",
              "    .colab-df-container {\n",
              "      display:flex;\n",
              "      flex-wrap:wrap;\n",
              "      gap: 12px;\n",
              "    }\n",
              "\n",
              "    .colab-df-convert {\n",
              "      background-color: #E8F0FE;\n",
              "      border: none;\n",
              "      border-radius: 50%;\n",
              "      cursor: pointer;\n",
              "      display: none;\n",
              "      fill: #1967D2;\n",
              "      height: 32px;\n",
              "      padding: 0 0 0 0;\n",
              "      width: 32px;\n",
              "    }\n",
              "\n",
              "    .colab-df-convert:hover {\n",
              "      background-color: #E2EBFA;\n",
              "      box-shadow: 0px 1px 2px rgba(60, 64, 67, 0.3), 0px 1px 3px 1px rgba(60, 64, 67, 0.15);\n",
              "      fill: #174EA6;\n",
              "    }\n",
              "\n",
              "    [theme=dark] .colab-df-convert {\n",
              "      background-color: #3B4455;\n",
              "      fill: #D2E3FC;\n",
              "    }\n",
              "\n",
              "    [theme=dark] .colab-df-convert:hover {\n",
              "      background-color: #434B5C;\n",
              "      box-shadow: 0px 1px 3px 1px rgba(0, 0, 0, 0.15);\n",
              "      filter: drop-shadow(0px 1px 2px rgba(0, 0, 0, 0.3));\n",
              "      fill: #FFFFFF;\n",
              "    }\n",
              "  </style>\n",
              "\n",
              "      <script>\n",
              "        const buttonEl =\n",
              "          document.querySelector('#df-b6143110-2ec0-4b89-81d8-27ce662201d5 button.colab-df-convert');\n",
              "        buttonEl.style.display =\n",
              "          google.colab.kernel.accessAllowed ? 'block' : 'none';\n",
              "\n",
              "        async function convertToInteractive(key) {\n",
              "          const element = document.querySelector('#df-b6143110-2ec0-4b89-81d8-27ce662201d5');\n",
              "          const dataTable =\n",
              "            await google.colab.kernel.invokeFunction('convertToInteractive',\n",
              "                                                     [key], {});\n",
              "          if (!dataTable) return;\n",
              "\n",
              "          const docLinkHtml = 'Like what you see? Visit the ' +\n",
              "            '<a target=\"_blank\" href=https://colab.research.google.com/notebooks/data_table.ipynb>data table notebook</a>'\n",
              "            + ' to learn more about interactive tables.';\n",
              "          element.innerHTML = '';\n",
              "          dataTable['output_type'] = 'display_data';\n",
              "          await google.colab.output.renderOutput(dataTable, element);\n",
              "          const docLink = document.createElement('div');\n",
              "          docLink.innerHTML = docLinkHtml;\n",
              "          element.appendChild(docLink);\n",
              "        }\n",
              "      </script>\n",
              "    </div>\n",
              "  </div>\n",
              "  "
            ]
          },
          "metadata": {},
          "execution_count": 16
        }
      ]
    },
    {
      "cell_type": "code",
      "source": [
        "from numpy.core.fromnumeric import sort\n",
        "check_missing = cdf.isnull().sum() * 100 / cdf.shape[0]\n",
        "check_missing[check_missing > 0].sort_values(ascending=False)"
      ],
      "metadata": {
        "colab": {
          "base_uri": "https://localhost:8080/"
        },
        "id": "tj1hqUmo8Xkc",
        "outputId": "31cec578-6e49-4793-dff7-17a34f2e3c81"
      },
      "execution_count": 17,
      "outputs": [
        {
          "output_type": "execute_result",
          "data": {
            "text/plain": [
              "Series([], dtype: float64)"
            ]
          },
          "metadata": {},
          "execution_count": 17
        }
      ]
    },
    {
      "cell_type": "code",
      "source": [
        "plt.figure(figsize=(10, 8))\n",
        "sns.heatmap(cdf.corr(), fmt='.2g', annot=True)"
      ],
      "metadata": {
        "colab": {
          "base_uri": "https://localhost:8080/",
          "height": 852
        },
        "id": "BRhAkxRiFhgC",
        "outputId": "432fed8d-500a-4072-b57c-4b629ea8d7ce"
      },
      "execution_count": 18,
      "outputs": [
        {
          "output_type": "execute_result",
          "data": {
            "text/plain": [
              "<Axes: >"
            ]
          },
          "metadata": {},
          "execution_count": 18
        },
        {
          "output_type": "display_data",
          "data": {
            "text/plain": [
              "<Figure size 1000x800 with 2 Axes>"
            ],
            "image/png": "[encoded data removed]"
          },
          "metadata": {}
        }
      ]
    },
    {
      "cell_type": "code",
      "source": [
        "from sklearn.model_selection import train_test_split\n",
        "\n",
        "cdf['GPA'] = cdf['GPA'].astype(int)\n",
        "X= cdf.drop('What is your gender', axis=1)\n",
        "y = cdf['What is your gender']\n",
        "\n",
        "X_train, X_test, y_train, y_test = train_test_split(X, y, test_size=0.2, random_state=42)"
      ],
      "metadata": {
        "id": "LrYAeyBXPiSy"
      },
      "execution_count": 19,
      "outputs": []
    },
    {
      "cell_type": "code",
      "source": [
        "from sklearn.model_selection import train_test_split\n",
        "\n",
        "selected_column = ['Week Two Attendance', 'Week Three Attendance',  'Week Four Attendance', 'Week Five Attendance', 'GPA', 'Assignment Score']\n",
        "\n",
        "train_df, test_df = train_test_split(cdf, test_size=0.2, random_state=42)\n",
        "\n",
        "train_z_score = np.abs(train_df[selected_column] - train_df[selected_column].mean())/train_df[selected_column]\n",
        "\n",
        "threshold = 3\n",
        "\n",
        "train_df_no_outliers = train_df[train_z_score <= threshold]"
      ],
      "metadata": {
        "id": "gUcOgmC3Pukk"
      },
      "execution_count": 20,
      "outputs": []
    },
    {
      "cell_type": "markdown",
      "source": [
        "## Decission Tree"
      ],
      "metadata": {
        "id": "gD8zlaZ3SZC1"
      }
    },
    {
      "cell_type": "code",
      "source": [
        "from sklearn.tree import DecisionTreeClassifier as dtc\n",
        "from sklearn.model_selection import GridSearchCV as gs\n",
        "dtree = dtc(class_weight='balanced')\n",
        "param_grid = {\n",
        "    'max_depth' : [3, 4, 5, 6, 7, 8],\n",
        "    'min_samples_split' : [2, 3, 4],\n",
        "    'min_samples_leaf' : [1, 2, 3, 4],\n",
        "    'random_state' : [0, 20, 42]\n",
        "}\n",
        "\n",
        "grid_search_dtree = gs(dtree, param_grid, cv =5, error_score='raise')\n",
        "# grid_search_dtree.fit(X_train, y_train)\n",
        "# grid_search_dtree.best_params_"
      ],
      "metadata": {
        "id": "uRPGjM9FSV41"
      },
      "execution_count": 21,
      "outputs": []
    },
    {
      "cell_type": "code",
      "source": [
        "grid_search_dtree.fit(X_train, y_train)"
      ],
      "metadata": {
        "colab": {
          "base_uri": "https://localhost:8080/",
          "height": 140
        },
        "id": "_MnEPP3CSh9o",
        "outputId": "b204b000-8f4a-4586-f59c-c61122e21caa"
      },
      "execution_count": 22,
      "outputs": [
        {
          "output_type": "execute_result",
          "data": {
            "text/plain": [
              "GridSearchCV(cv=5, error_score='raise',\n",
              "             estimator=DecisionTreeClassifier(class_weight='balanced'),\n",
              "             param_grid={'max_depth': [3, 4, 5, 6, 7, 8],\n",
              "                         'min_samples_leaf': [1, 2, 3, 4],\n",
              "                         'min_samples_split': [2, 3, 4],\n",
              "                         'random_state': [0, 20, 42]})"
            ],
            "text/html": [
              "<style>#sk-container-id-1 {color: black;background-color: white;}#sk-container-id-1 pre{padding: 0;}#sk-container-id-1 div.sk-toggleable {background-color: white;}#sk-container-id-1 label.sk-toggleable__label {cursor: pointer;display: block;width: 100%;margin-bottom: 0;padding: 0.3em;box-sizing: border-box;text-align: center;}#sk-container-id-1 label.sk-toggleable__label-arrow:before {content: \"▸\";float: left;margin-right: 0.25em;color: #696969;}#sk-container-id-1 label.sk-toggleable__label-arrow:hover:before {color: black;}#sk-container-id-1 div.sk-estimator:hover label.sk-toggleable__label-arrow:before {color: black;}#sk-container-id-1 div.sk-toggleable__content {max-height: 0;max-width: 0;overflow: hidden;text-align: left;background-color: #f0f8ff;}#sk-container-id-1 div.sk-toggleable__content pre {margin: 0.2em;color: black;border-radius: 0.25em;background-color: #f0f8ff;}#sk-container-id-1 input.sk-toggleable__control:checked~div.sk-toggleable__content {max-height: 200px;max-width: 100%;overflow: auto;}#sk-container-id-1 input.sk-toggleable__control:checked~label.sk-toggleable__label-arrow:before {content: \"▾\";}#sk-container-id-1 div.sk-estimator input.sk-toggleable__control:checked~label.sk-toggleable__label {background-color: #d4ebff;}#sk-container-id-1 div.sk-label input.sk-toggleable__control:checked~label.sk-toggleable__label {background-color: #d4ebff;}#sk-container-id-1 input.sk-hidden--visually {border: 0;clip: rect(1px 1px 1px 1px);clip: rect(1px, 1px, 1px, 1px);height: 1px;margin: -1px;overflow: hidden;padding: 0;position: absolute;width: 1px;}#sk-container-id-1 div.sk-estimator {font-family: monospace;background-color: #f0f8ff;border: 1px dotted black;border-radius: 0.25em;box-sizing: border-box;margin-bottom: 0.5em;}#sk-container-id-1 div.sk-estimator:hover {background-color: #d4ebff;}#sk-container-id-1 div.sk-parallel-item::after {content: \"\";width: 100%;border-bottom: 1px solid gray;flex-grow: 1;}#sk-container-id-1 div.sk-label:hover label.sk-toggleable__label {background-color: #d4ebff;}#sk-container-id-1 div.sk-serial::before {content: \"\";position: absolute;border-left: 1px solid gray;box-sizing: border-box;top: 0;bottom: 0;left: 50%;z-index: 0;}#sk-container-id-1 div.sk-serial {display: flex;flex-direction: column;align-items: center;background-color: white;padding-right: 0.2em;padding-left: 0.2em;position: relative;}#sk-container-id-1 div.sk-item {position: relative;z-index: 1;}#sk-container-id-1 div.sk-parallel {display: flex;align-items: stretch;justify-content: center;background-color: white;position: relative;}#sk-container-id-1 div.sk-item::before, #sk-container-id-1 div.sk-parallel-item::before {content: \"\";position: absolute;border-left: 1px solid gray;box-sizing: border-box;top: 0;bottom: 0;left: 50%;z-index: -1;}#sk-container-id-1 div.sk-parallel-item {display: flex;flex-direction: column;z-index: 1;position: relative;background-color: white;}#sk-container-id-1 div.sk-parallel-item:first-child::after {align-self: flex-end;width: 50%;}#sk-container-id-1 div.sk-parallel-item:last-child::after {align-self: flex-start;width: 50%;}#sk-container-id-1 div.sk-parallel-item:only-child::after {width: 0;}#sk-container-id-1 div.sk-dashed-wrapped {border: 1px dashed gray;margin: 0 0.4em 0.5em 0.4em;box-sizing: border-box;padding-bottom: 0.4em;background-color: white;}#sk-container-id-1 div.sk-label label {font-family: monospace;font-weight: bold;display: inline-block;line-height: 1.2em;}#sk-container-id-1 div.sk-label-container {text-align: center;}#sk-container-id-1 div.sk-container {/* jupyter's `normalize.less` sets `[hidden] { display: none; }` but bootstrap.min.css set `[hidden] { display: none !important; }` so we also need the `!important` here to be able to override the default hidden behavior on the sphinx rendered scikit-learn.org. See: https://github.com/scikit-learn/scikit-learn/issues/21755 */display: inline-block !important;position: relative;}#sk-container-id-1 div.sk-text-repr-fallback {display: none;}</style><div id=\"sk-container-id-1\" class=\"sk-top-container\"><div class=\"sk-text-repr-fallback\"><pre>GridSearchCV(cv=5, error_score=&#x27;raise&#x27;,\n",
              "             estimator=DecisionTreeClassifier(class_weight=&#x27;balanced&#x27;),\n",
              "             param_grid={&#x27;max_depth&#x27;: [3, 4, 5, 6, 7, 8],\n",
              "                         &#x27;min_samples_leaf&#x27;: [1, 2, 3, 4],\n",
              "                         &#x27;min_samples_split&#x27;: [2, 3, 4],\n",
              "                         &#x27;random_state&#x27;: [0, 20, 42]})</pre><b>In a Jupyter environment, please rerun this cell to show the HTML representation or trust the notebook. <br />On GitHub, the HTML representation is unable to render, please try loading this page with nbviewer.org.</b></div><div class=\"sk-container\" hidden><div class=\"sk-item sk-dashed-wrapped\"><div class=\"sk-label-container\"><div class=\"sk-label sk-toggleable\"><input class=\"sk-toggleable__control sk-hidden--visually\" id=\"sk-estimator-id-1\" type=\"checkbox\" ><label for=\"sk-estimator-id-1\" class=\"sk-toggleable__label sk-toggleable__label-arrow\">GridSearchCV</label><div class=\"sk-toggleable__content\"><pre>GridSearchCV(cv=5, error_score=&#x27;raise&#x27;,\n",
              "             estimator=DecisionTreeClassifier(class_weight=&#x27;balanced&#x27;),\n",
              "             param_grid={&#x27;max_depth&#x27;: [3, 4, 5, 6, 7, 8],\n",
              "                         &#x27;min_samples_leaf&#x27;: [1, 2, 3, 4],\n",
              "                         &#x27;min_samples_split&#x27;: [2, 3, 4],\n",
              "                         &#x27;random_state&#x27;: [0, 20, 42]})</pre></div></div></div><div class=\"sk-parallel\"><div class=\"sk-parallel-item\"><div class=\"sk-item\"><div class=\"sk-label-container\"><div class=\"sk-label sk-toggleable\"><input class=\"sk-toggleable__control sk-hidden--visually\" id=\"sk-estimator-id-2\" type=\"checkbox\" ><label for=\"sk-estimator-id-2\" class=\"sk-toggleable__label sk-toggleable__label-arrow\">estimator: DecisionTreeClassifier</label><div class=\"sk-toggleable__content\"><pre>DecisionTreeClassifier(class_weight=&#x27;balanced&#x27;)</pre></div></div></div><div class=\"sk-serial\"><div class=\"sk-item\"><div class=\"sk-estimator sk-toggleable\"><input class=\"sk-toggleable__control sk-hidden--visually\" id=\"sk-estimator-id-3\" type=\"checkbox\" ><label for=\"sk-estimator-id-3\" class=\"sk-toggleable__label sk-toggleable__label-arrow\">DecisionTreeClassifier</label><div class=\"sk-toggleable__content\"><pre>DecisionTreeClassifier(class_weight=&#x27;balanced&#x27;)</pre></div></div></div></div></div></div></div></div></div></div>"
            ]
          },
          "metadata": {},
          "execution_count": 22
        }
      ]
    },
    {
      "cell_type": "code",
      "source": [
        "grid_search_dtree.best_params_"
      ],
      "metadata": {
        "colab": {
          "base_uri": "https://localhost:8080/"
        },
        "id": "MYj8pCGY_NUe",
        "outputId": "f93af44f-d5bb-4b3a-9708-39c877cafe03"
      },
      "execution_count": 23,
      "outputs": [
        {
          "output_type": "execute_result",
          "data": {
            "text/plain": [
              "{'max_depth': 3,\n",
              " 'min_samples_leaf': 3,\n",
              " 'min_samples_split': 2,\n",
              " 'random_state': 0}"
            ]
          },
          "metadata": {},
          "execution_count": 23
        }
      ]
    },
    {
      "cell_type": "code",
      "source": [
        "from sklearn.tree import DecisionTreeClassifier as dtc\n",
        "dtree = dtc(random_state= 20, max_depth=3, min_samples_leaf=3, min_samples_split=2, class_weight='balanced')\n",
        "dtree.fit(X_train, y_train)"
      ],
      "metadata": {
        "colab": {
          "base_uri": "https://localhost:8080/",
          "height": 92
        },
        "id": "OxnykRdU_S6T",
        "outputId": "59f26482-c556-47d9-ef1e-d55b70df2ab9"
      },
      "execution_count": 24,
      "outputs": [
        {
          "output_type": "execute_result",
          "data": {
            "text/plain": [
              "DecisionTreeClassifier(class_weight='balanced', max_depth=3, min_samples_leaf=3,\n",
              "                       random_state=20)"
            ],
            "text/html": [
              "<style>#sk-container-id-2 {color: black;background-color: white;}#sk-container-id-2 pre{padding: 0;}#sk-container-id-2 div.sk-toggleable {background-color: white;}#sk-container-id-2 label.sk-toggleable__label {cursor: pointer;display: block;width: 100%;margin-bottom: 0;padding: 0.3em;box-sizing: border-box;text-align: center;}#sk-container-id-2 label.sk-toggleable__label-arrow:before {content: \"▸\";float: left;margin-right: 0.25em;color: #696969;}#sk-container-id-2 label.sk-toggleable__label-arrow:hover:before {color: black;}#sk-container-id-2 div.sk-estimator:hover label.sk-toggleable__label-arrow:before {color: black;}#sk-container-id-2 div.sk-toggleable__content {max-height: 0;max-width: 0;overflow: hidden;text-align: left;background-color: #f0f8ff;}#sk-container-id-2 div.sk-toggleable__content pre {margin: 0.2em;color: black;border-radius: 0.25em;background-color: #f0f8ff;}#sk-container-id-2 input.sk-toggleable__control:checked~div.sk-toggleable__content {max-height: 200px;max-width: 100%;overflow: auto;}#sk-container-id-2 input.sk-toggleable__control:checked~label.sk-toggleable__label-arrow:before {content: \"▾\";}#sk-container-id-2 div.sk-estimator input.sk-toggleable__control:checked~label.sk-toggleable__label {background-color: #d4ebff;}#sk-container-id-2 div.sk-label input.sk-toggleable__control:checked~label.sk-toggleable__label {background-color: #d4ebff;}#sk-container-id-2 input.sk-hidden--visually {border: 0;clip: rect(1px 1px 1px 1px);clip: rect(1px, 1px, 1px, 1px);height: 1px;margin: -1px;overflow: hidden;padding: 0;position: absolute;width: 1px;}#sk-container-id-2 div.sk-estimator {font-family: monospace;background-color: #f0f8ff;border: 1px dotted black;border-radius: 0.25em;box-sizing: border-box;margin-bottom: 0.5em;}#sk-container-id-2 div.sk-estimator:hover {background-color: #d4ebff;}#sk-container-id-2 div.sk-parallel-item::after {content: \"\";width: 100%;border-bottom: 1px solid gray;flex-grow: 1;}#sk-container-id-2 div.sk-label:hover label.sk-toggleable__label {background-color: #d4ebff;}#sk-container-id-2 div.sk-serial::before {content: \"\";position: absolute;border-left: 1px solid gray;box-sizing: border-box;top: 0;bottom: 0;left: 50%;z-index: 0;}#sk-container-id-2 div.sk-serial {display: flex;flex-direction: column;align-items: center;background-color: white;padding-right: 0.2em;padding-left: 0.2em;position: relative;}#sk-container-id-2 div.sk-item {position: relative;z-index: 1;}#sk-container-id-2 div.sk-parallel {display: flex;align-items: stretch;justify-content: center;background-color: white;position: relative;}#sk-container-id-2 div.sk-item::before, #sk-container-id-2 div.sk-parallel-item::before {content: \"\";position: absolute;border-left: 1px solid gray;box-sizing: border-box;top: 0;bottom: 0;left: 50%;z-index: -1;}#sk-container-id-2 div.sk-parallel-item {display: flex;flex-direction: column;z-index: 1;position: relative;background-color: white;}#sk-container-id-2 div.sk-parallel-item:first-child::after {align-self: flex-end;width: 50%;}#sk-container-id-2 div.sk-parallel-item:last-child::after {align-self: flex-start;width: 50%;}#sk-container-id-2 div.sk-parallel-item:only-child::after {width: 0;}#sk-container-id-2 div.sk-dashed-wrapped {border: 1px dashed gray;margin: 0 0.4em 0.5em 0.4em;box-sizing: border-box;padding-bottom: 0.4em;background-color: white;}#sk-container-id-2 div.sk-label label {font-family: monospace;font-weight: bold;display: inline-block;line-height: 1.2em;}#sk-container-id-2 div.sk-label-container {text-align: center;}#sk-container-id-2 div.sk-container {/* jupyter's `normalize.less` sets `[hidden] { display: none; }` but bootstrap.min.css set `[hidden] { display: none !important; }` so we also need the `!important` here to be able to override the default hidden behavior on the sphinx rendered scikit-learn.org. See: https://github.com/scikit-learn/scikit-learn/issues/21755 */display: inline-block !important;position: relative;}#sk-container-id-2 div.sk-text-repr-fallback {display: none;}</style><div id=\"sk-container-id-2\" class=\"sk-top-container\"><div class=\"sk-text-repr-fallback\"><pre>DecisionTreeClassifier(class_weight=&#x27;balanced&#x27;, max_depth=3, min_samples_leaf=3,\n",
              "                       random_state=20)</pre><b>In a Jupyter environment, please rerun this cell to show the HTML representation or trust the notebook. <br />On GitHub, the HTML representation is unable to render, please try loading this page with nbviewer.org.</b></div><div class=\"sk-container\" hidden><div class=\"sk-item\"><div class=\"sk-estimator sk-toggleable\"><input class=\"sk-toggleable__control sk-hidden--visually\" id=\"sk-estimator-id-4\" type=\"checkbox\" checked><label for=\"sk-estimator-id-4\" class=\"sk-toggleable__label sk-toggleable__label-arrow\">DecisionTreeClassifier</label><div class=\"sk-toggleable__content\"><pre>DecisionTreeClassifier(class_weight=&#x27;balanced&#x27;, max_depth=3, min_samples_leaf=3,\n",
              "                       random_state=20)</pre></div></div></div></div></div>"
            ]
          },
          "metadata": {},
          "execution_count": 24
        }
      ]
    },
    {
      "cell_type": "code",
      "source": [
        "from sklearn.metrics import accuracy_score\n",
        "y_pred_dtree = dtree.predict(X_test)\n",
        "print(\"Accuracy Score: \", round(accuracy_score(y_test, y_pred_dtree) * 100, 2), \"%\")"
      ],
      "metadata": {
        "colab": {
          "base_uri": "https://localhost:8080/"
        },
        "id": "li0hQy0RFn4f",
        "outputId": "4d672a11-cd4c-4ce9-c91d-6761219a0195"
      },
      "execution_count": 25,
      "outputs": [
        {
          "output_type": "stream",
          "name": "stdout",
          "text": [
            "Accuracy Score:  62.86 %\n"
          ]
        }
      ]
    },
    {
      "cell_type": "code",
      "source": [
        "from sklearn.metrics import classification_report\n",
        "print(classification_report(y_test, y_pred_dtree))"
      ],
      "metadata": {
        "colab": {
          "base_uri": "https://localhost:8080/"
        },
        "id": "Xz8BuOSs_dsR",
        "outputId": "e5e8398e-b190-4a9a-f2df-00209b0258f0"
      },
      "execution_count": 26,
      "outputs": [
        {
          "output_type": "stream",
          "name": "stdout",
          "text": [
            "              precision    recall  f1-score   support\n",
            "\n",
            "           1       0.62      0.90      0.73        20\n",
            "           2       0.67      0.27      0.38        15\n",
            "\n",
            "    accuracy                           0.63        35\n",
            "   macro avg       0.64      0.58      0.56        35\n",
            "weighted avg       0.64      0.63      0.58        35\n",
            "\n"
          ]
        }
      ]
    },
    {
      "cell_type": "code",
      "source": [
        "from sklearn.metrics import confusion_matrix\n",
        "cm = confusion_matrix(y_test, y_pred_dtree)\n",
        "plt.figure(figsize=(5,5))\n",
        "sns.heatmap(data = cm, linewidths = 0.5, annot = True, cmap = 'Blues')\n",
        "plt.ylabel('Actual label')\n",
        "plt.xlabel('Predicted label')\n",
        "all_sample_title = 'Accuracy Score for the Decision Tree Model: {0}'.format(dtree.score(X_test, y_test))\n",
        "plt.title(all_sample_title, size = 15)"
      ],
      "metadata": {
        "colab": {
          "base_uri": "https://localhost:8080/",
          "height": 507
        },
        "id": "zvd8mFlCdwyX",
        "outputId": "20f5d629-0010-465a-9259-d4c4e57eb846"
      },
      "execution_count": 43,
      "outputs": [
        {
          "output_type": "execute_result",
          "data": {
            "text/plain": [
              "Text(0.5, 1.0, 'Accuracy Score for the Decision Tree Model: 0.6285714285714286')"
            ]
          },
          "metadata": {},
          "execution_count": 43
        },
        {
          "output_type": "display_data",
          "data": {
            "text/plain": [
              "<Figure size 500x500 with 2 Axes>"
            ],
            "image/png": "[encoded data removed]"
          },
          "metadata": {}
        }
      ]
    },
    {
      "cell_type": "markdown",
      "source": [
        "# GaussianNB"
      ],
      "metadata": {
        "id": "q8ySpWyYXip9"
      }
    },
    {
      "cell_type": "code",
      "source": [
        "from sklearn.naive_bayes import GaussianNB\n",
        "from sklearn.model_selection import GridSearchCV as gs\n",
        "gnb = GaussianNB()\n",
        "param_grid = {\n",
        "    'var_smoothing' : [0, 0.2, 0.5, 0.7, 0.9]\n",
        "}\n",
        "\n",
        "grid_search_gnb = gs(gnb, param_grid, cv =5)\n",
        "# grid_search.fit(X_train, y_train)\n",
        "# grid_search.best_params_"
      ],
      "metadata": {
        "id": "b2CRdoNjD2wQ"
      },
      "execution_count": 27,
      "outputs": []
    },
    {
      "cell_type": "code",
      "source": [
        "grid_search_gnb.fit(X_train, y_train)\n",
        "grid_search_gnb.best_params_"
      ],
      "metadata": {
        "colab": {
          "base_uri": "https://localhost:8080/"
        },
        "id": "Sm3dwZYkYA2r",
        "outputId": "419d5101-6f89-4c06-f77b-275830b48c09"
      },
      "execution_count": 28,
      "outputs": [
        {
          "output_type": "execute_result",
          "data": {
            "text/plain": [
              "{'var_smoothing': 0}"
            ]
          },
          "metadata": {},
          "execution_count": 28
        }
      ]
    },
    {
      "cell_type": "code",
      "source": [
        "from sklearn.naive_bayes import GaussianNB\n",
        "gnb = GaussianNB(var_smoothing= 0)\n",
        "gnb.fit(X_train, y_train)"
      ],
      "metadata": {
        "colab": {
          "base_uri": "https://localhost:8080/",
          "height": 74
        },
        "id": "e7z5W4HMYEs0",
        "outputId": "e29cb7e5-66e7-4b4f-b522-bd965738b009"
      },
      "execution_count": 29,
      "outputs": [
        {
          "output_type": "execute_result",
          "data": {
            "text/plain": [
              "GaussianNB(var_smoothing=0)"
            ],
            "text/html": [
              "<style>#sk-container-id-3 {color: black;background-color: white;}#sk-container-id-3 pre{padding: 0;}#sk-container-id-3 div.sk-toggleable {background-color: white;}#sk-container-id-3 label.sk-toggleable__label {cursor: pointer;display: block;width: 100%;margin-bottom: 0;padding: 0.3em;box-sizing: border-box;text-align: center;}#sk-container-id-3 label.sk-toggleable__label-arrow:before {content: \"▸\";float: left;margin-right: 0.25em;color: #696969;}#sk-container-id-3 label.sk-toggleable__label-arrow:hover:before {color: black;}#sk-container-id-3 div.sk-estimator:hover label.sk-toggleable__label-arrow:before {color: black;}#sk-container-id-3 div.sk-toggleable__content {max-height: 0;max-width: 0;overflow: hidden;text-align: left;background-color: #f0f8ff;}#sk-container-id-3 div.sk-toggleable__content pre {margin: 0.2em;color: black;border-radius: 0.25em;background-color: #f0f8ff;}#sk-container-id-3 input.sk-toggleable__control:checked~div.sk-toggleable__content {max-height: 200px;max-width: 100%;overflow: auto;}#sk-container-id-3 input.sk-toggleable__control:checked~label.sk-toggleable__label-arrow:before {content: \"▾\";}#sk-container-id-3 div.sk-estimator input.sk-toggleable__control:checked~label.sk-toggleable__label {background-color: #d4ebff;}#sk-container-id-3 div.sk-label input.sk-toggleable__control:checked~label.sk-toggleable__label {background-color: #d4ebff;}#sk-container-id-3 input.sk-hidden--visually {border: 0;clip: rect(1px 1px 1px 1px);clip: rect(1px, 1px, 1px, 1px);height: 1px;margin: -1px;overflow: hidden;padding: 0;position: absolute;width: 1px;}#sk-container-id-3 div.sk-estimator {font-family: monospace;background-color: #f0f8ff;border: 1px dotted black;border-radius: 0.25em;box-sizing: border-box;margin-bottom: 0.5em;}#sk-container-id-3 div.sk-estimator:hover {background-color: #d4ebff;}#sk-container-id-3 div.sk-parallel-item::after {content: \"\";width: 100%;border-bottom: 1px solid gray;flex-grow: 1;}#sk-container-id-3 div.sk-label:hover label.sk-toggleable__label {background-color: #d4ebff;}#sk-container-id-3 div.sk-serial::before {content: \"\";position: absolute;border-left: 1px solid gray;box-sizing: border-box;top: 0;bottom: 0;left: 50%;z-index: 0;}#sk-container-id-3 div.sk-serial {display: flex;flex-direction: column;align-items: center;background-color: white;padding-right: 0.2em;padding-left: 0.2em;position: relative;}#sk-container-id-3 div.sk-item {position: relative;z-index: 1;}#sk-container-id-3 div.sk-parallel {display: flex;align-items: stretch;justify-content: center;background-color: white;position: relative;}#sk-container-id-3 div.sk-item::before, #sk-container-id-3 div.sk-parallel-item::before {content: \"\";position: absolute;border-left: 1px solid gray;box-sizing: border-box;top: 0;bottom: 0;left: 50%;z-index: -1;}#sk-container-id-3 div.sk-parallel-item {display: flex;flex-direction: column;z-index: 1;position: relative;background-color: white;}#sk-container-id-3 div.sk-parallel-item:first-child::after {align-self: flex-end;width: 50%;}#sk-container-id-3 div.sk-parallel-item:last-child::after {align-self: flex-start;width: 50%;}#sk-container-id-3 div.sk-parallel-item:only-child::after {width: 0;}#sk-container-id-3 div.sk-dashed-wrapped {border: 1px dashed gray;margin: 0 0.4em 0.5em 0.4em;box-sizing: border-box;padding-bottom: 0.4em;background-color: white;}#sk-container-id-3 div.sk-label label {font-family: monospace;font-weight: bold;display: inline-block;line-height: 1.2em;}#sk-container-id-3 div.sk-label-container {text-align: center;}#sk-container-id-3 div.sk-container {/* jupyter's `normalize.less` sets `[hidden] { display: none; }` but bootstrap.min.css set `[hidden] { display: none !important; }` so we also need the `!important` here to be able to override the default hidden behavior on the sphinx rendered scikit-learn.org. See: https://github.com/scikit-learn/scikit-learn/issues/21755 */display: inline-block !important;position: relative;}#sk-container-id-3 div.sk-text-repr-fallback {display: none;}</style><div id=\"sk-container-id-3\" class=\"sk-top-container\"><div class=\"sk-text-repr-fallback\"><pre>GaussianNB(var_smoothing=0)</pre><b>In a Jupyter environment, please rerun this cell to show the HTML representation or trust the notebook. <br />On GitHub, the HTML representation is unable to render, please try loading this page with nbviewer.org.</b></div><div class=\"sk-container\" hidden><div class=\"sk-item\"><div class=\"sk-estimator sk-toggleable\"><input class=\"sk-toggleable__control sk-hidden--visually\" id=\"sk-estimator-id-5\" type=\"checkbox\" checked><label for=\"sk-estimator-id-5\" class=\"sk-toggleable__label sk-toggleable__label-arrow\">GaussianNB</label><div class=\"sk-toggleable__content\"><pre>GaussianNB(var_smoothing=0)</pre></div></div></div></div></div>"
            ]
          },
          "metadata": {},
          "execution_count": 29
        }
      ]
    },
    {
      "cell_type": "code",
      "source": [
        "from sklearn.metrics import accuracy_score\n",
        "y_pred_gnb = gnb.predict(X_test)\n",
        "print(\"Accuracy Score: \", round(accuracy_score(y_test, y_pred_gnb) * 100, 2), \"%\")"
      ],
      "metadata": {
        "colab": {
          "base_uri": "https://localhost:8080/"
        },
        "id": "dxHeW5fgYIsX",
        "outputId": "6609a5dc-afbc-4d44-ec2d-5dc66d37acca"
      },
      "execution_count": 30,
      "outputs": [
        {
          "output_type": "stream",
          "name": "stdout",
          "text": [
            "Accuracy Score:  51.43 %\n"
          ]
        }
      ]
    },
    {
      "cell_type": "code",
      "source": [
        "from sklearn.metrics import classification_report\n",
        "print(classification_report(y_test, y_pred_gnb))"
      ],
      "metadata": {
        "colab": {
          "base_uri": "https://localhost:8080/"
        },
        "id": "RdLQnX2NYVwh",
        "outputId": "328e188f-651b-4efc-f8bd-9d23d65feecf"
      },
      "execution_count": 31,
      "outputs": [
        {
          "output_type": "stream",
          "name": "stdout",
          "text": [
            "              precision    recall  f1-score   support\n",
            "\n",
            "           1       0.57      0.65      0.60        20\n",
            "           2       0.42      0.33      0.37        15\n",
            "\n",
            "    accuracy                           0.51        35\n",
            "   macro avg       0.49      0.49      0.49        35\n",
            "weighted avg       0.50      0.51      0.50        35\n",
            "\n"
          ]
        }
      ]
    },
    {
      "cell_type": "code",
      "source": [
        "from sklearn.metrics import confusion_matrix\n",
        "cm = confusion_matrix(y_test, y_pred_gnb)\n",
        "plt.figure(figsize=(5,5))\n",
        "sns.heatmap(data = cm, linewidths = 0.5, annot = True, cmap = 'Blues')\n",
        "plt.ylabel('Actual label')\n",
        "plt.xlabel('Predicted label')\n",
        "all_sample_title = 'Accuracy Score for the GaussianNB Model: {0}'.format(gnb.score(X_test, y_test))\n",
        "plt.title(all_sample_title, size = 15)"
      ],
      "metadata": {
        "colab": {
          "base_uri": "https://localhost:8080/",
          "height": 507
        },
        "id": "gFdcK_-KeI-0",
        "outputId": "62890514-76c3-4e02-80b4-9db5a37519b1"
      },
      "execution_count": 61,
      "outputs": [
        {
          "output_type": "execute_result",
          "data": {
            "text/plain": [
              "Text(0.5, 1.0, 'Accuracy Score for the GaussianNB Model: 0.5142857142857142')"
            ]
          },
          "metadata": {},
          "execution_count": 61
        },
        {
          "output_type": "display_data",
          "data": {
            "text/plain": [
              "<Figure size 500x500 with 2 Axes>"
            ],
            "image/png": "[encoded data removed]"
          },
          "metadata": {}
        }
      ]
    },
    {
      "cell_type": "code",
      "source": [
        "from sklearn.ensemble import StackingClassifier\n",
        "from sklearn.linear_model import LogisticRegression\n",
        "\n",
        "estimator_list = [\n",
        "    ('dtree',dtree),\n",
        "    ('gnb',gnb)]\n",
        "\n",
        "stack_model = StackingClassifier(\n",
        "    estimators=estimator_list, final_estimator=LogisticRegression()\n",
        ")\n",
        "\n",
        "stack_model.fit(X_train, y_train)"
      ],
      "metadata": {
        "colab": {
          "base_uri": "https://localhost:8080/",
          "height": 163
        },
        "id": "Y72bzm4lYd8k",
        "outputId": "35a292b1-fd9c-4f5d-a5d7-ca21ff2b81be"
      },
      "execution_count": 32,
      "outputs": [
        {
          "output_type": "execute_result",
          "data": {
            "text/plain": [
              "StackingClassifier(estimators=[('dtree',\n",
              "                                DecisionTreeClassifier(class_weight='balanced',\n",
              "                                                       max_depth=3,\n",
              "                                                       min_samples_leaf=3,\n",
              "                                                       random_state=20)),\n",
              "                               ('gnb', GaussianNB(var_smoothing=0))],\n",
              "                   final_estimator=LogisticRegression())"
            ],
            "text/html": [
              "<style>#sk-container-id-4 {color: black;background-color: white;}#sk-container-id-4 pre{padding: 0;}#sk-container-id-4 div.sk-toggleable {background-color: white;}#sk-container-id-4 label.sk-toggleable__label {cursor: pointer;display: block;width: 100%;margin-bottom: 0;padding: 0.3em;box-sizing: border-box;text-align: center;}#sk-container-id-4 label.sk-toggleable__label-arrow:before {content: \"▸\";float: left;margin-right: 0.25em;color: #696969;}#sk-container-id-4 label.sk-toggleable__label-arrow:hover:before {color: black;}#sk-container-id-4 div.sk-estimator:hover label.sk-toggleable__label-arrow:before {color: black;}#sk-container-id-4 div.sk-toggleable__content {max-height: 0;max-width: 0;overflow: hidden;text-align: left;background-color: #f0f8ff;}#sk-container-id-4 div.sk-toggleable__content pre {margin: 0.2em;color: black;border-radius: 0.25em;background-color: #f0f8ff;}#sk-container-id-4 input.sk-toggleable__control:checked~div.sk-toggleable__content {max-height: 200px;max-width: 100%;overflow: auto;}#sk-container-id-4 input.sk-toggleable__control:checked~label.sk-toggleable__label-arrow:before {content: \"▾\";}#sk-container-id-4 div.sk-estimator input.sk-toggleable__control:checked~label.sk-toggleable__label {background-color: #d4ebff;}#sk-container-id-4 div.sk-label input.sk-toggleable__control:checked~label.sk-toggleable__label {background-color: #d4ebff;}#sk-container-id-4 input.sk-hidden--visually {border: 0;clip: rect(1px 1px 1px 1px);clip: rect(1px, 1px, 1px, 1px);height: 1px;margin: -1px;overflow: hidden;padding: 0;position: absolute;width: 1px;}#sk-container-id-4 div.sk-estimator {font-family: monospace;background-color: #f0f8ff;border: 1px dotted black;border-radius: 0.25em;box-sizing: border-box;margin-bottom: 0.5em;}#sk-container-id-4 div.sk-estimator:hover {background-color: #d4ebff;}#sk-container-id-4 div.sk-parallel-item::after {content: \"\";width: 100%;border-bottom: 1px solid gray;flex-grow: 1;}#sk-container-id-4 div.sk-label:hover label.sk-toggleable__label {background-color: #d4ebff;}#sk-container-id-4 div.sk-serial::before {content: \"\";position: absolute;border-left: 1px solid gray;box-sizing: border-box;top: 0;bottom: 0;left: 50%;z-index: 0;}#sk-container-id-4 div.sk-serial {display: flex;flex-direction: column;align-items: center;background-color: white;padding-right: 0.2em;padding-left: 0.2em;position: relative;}#sk-container-id-4 div.sk-item {position: relative;z-index: 1;}#sk-container-id-4 div.sk-parallel {display: flex;align-items: stretch;justify-content: center;background-color: white;position: relative;}#sk-container-id-4 div.sk-item::before, #sk-container-id-4 div.sk-parallel-item::before {content: \"\";position: absolute;border-left: 1px solid gray;box-sizing: border-box;top: 0;bottom: 0;left: 50%;z-index: -1;}#sk-container-id-4 div.sk-parallel-item {display: flex;flex-direction: column;z-index: 1;position: relative;background-color: white;}#sk-container-id-4 div.sk-parallel-item:first-child::after {align-self: flex-end;width: 50%;}#sk-container-id-4 div.sk-parallel-item:last-child::after {align-self: flex-start;width: 50%;}#sk-container-id-4 div.sk-parallel-item:only-child::after {width: 0;}#sk-container-id-4 div.sk-dashed-wrapped {border: 1px dashed gray;margin: 0 0.4em 0.5em 0.4em;box-sizing: border-box;padding-bottom: 0.4em;background-color: white;}#sk-container-id-4 div.sk-label label {font-family: monospace;font-weight: bold;display: inline-block;line-height: 1.2em;}#sk-container-id-4 div.sk-label-container {text-align: center;}#sk-container-id-4 div.sk-container {/* jupyter's `normalize.less` sets `[hidden] { display: none; }` but bootstrap.min.css set `[hidden] { display: none !important; }` so we also need the `!important` here to be able to override the default hidden behavior on the sphinx rendered scikit-learn.org. See: https://github.com/scikit-learn/scikit-learn/issues/21755 */display: inline-block !important;position: relative;}#sk-container-id-4 div.sk-text-repr-fallback {display: none;}</style><div id=\"sk-container-id-4\" class=\"sk-top-container\"><div class=\"sk-text-repr-fallback\"><pre>StackingClassifier(estimators=[(&#x27;dtree&#x27;,\n",
              "                                DecisionTreeClassifier(class_weight=&#x27;balanced&#x27;,\n",
              "                                                       max_depth=3,\n",
              "                                                       min_samples_leaf=3,\n",
              "                                                       random_state=20)),\n",
              "                               (&#x27;gnb&#x27;, GaussianNB(var_smoothing=0))],\n",
              "                   final_estimator=LogisticRegression())</pre><b>In a Jupyter environment, please rerun this cell to show the HTML representation or trust the notebook. <br />On GitHub, the HTML representation is unable to render, please try loading this page with nbviewer.org.</b></div><div class=\"sk-container\" hidden><div class=\"sk-item sk-dashed-wrapped\"><div class=\"sk-label-container\"><div class=\"sk-label sk-toggleable\"><input class=\"sk-toggleable__control sk-hidden--visually\" id=\"sk-estimator-id-6\" type=\"checkbox\" ><label for=\"sk-estimator-id-6\" class=\"sk-toggleable__label sk-toggleable__label-arrow\">StackingClassifier</label><div class=\"sk-toggleable__content\"><pre>StackingClassifier(estimators=[(&#x27;dtree&#x27;,\n",
              "                                DecisionTreeClassifier(class_weight=&#x27;balanced&#x27;,\n",
              "                                                       max_depth=3,\n",
              "                                                       min_samples_leaf=3,\n",
              "                                                       random_state=20)),\n",
              "                               (&#x27;gnb&#x27;, GaussianNB(var_smoothing=0))],\n",
              "                   final_estimator=LogisticRegression())</pre></div></div></div><div class=\"sk-serial\"><div class=\"sk-item\"><div class=\"sk-parallel\"><div class=\"sk-parallel-item\"><div class=\"sk-item\"><div class=\"sk-label-container\"><div class=\"sk-label sk-toggleable\"><label>dtree</label></div></div><div class=\"sk-serial\"><div class=\"sk-item\"><div class=\"sk-estimator sk-toggleable\"><input class=\"sk-toggleable__control sk-hidden--visually\" id=\"sk-estimator-id-7\" type=\"checkbox\" ><label for=\"sk-estimator-id-7\" class=\"sk-toggleable__label sk-toggleable__label-arrow\">DecisionTreeClassifier</label><div class=\"sk-toggleable__content\"><pre>DecisionTreeClassifier(class_weight=&#x27;balanced&#x27;, max_depth=3, min_samples_leaf=3,\n",
              "                       random_state=20)</pre></div></div></div></div></div></div><div class=\"sk-parallel-item\"><div class=\"sk-item\"><div class=\"sk-label-container\"><div class=\"sk-label sk-toggleable\"><label>gnb</label></div></div><div class=\"sk-serial\"><div class=\"sk-item\"><div class=\"sk-estimator sk-toggleable\"><input class=\"sk-toggleable__control sk-hidden--visually\" id=\"sk-estimator-id-8\" type=\"checkbox\" ><label for=\"sk-estimator-id-8\" class=\"sk-toggleable__label sk-toggleable__label-arrow\">GaussianNB</label><div class=\"sk-toggleable__content\"><pre>GaussianNB(var_smoothing=0)</pre></div></div></div></div></div></div></div></div><div class=\"sk-item\"><div class=\"sk-parallel\"><div class=\"sk-parallel-item\"><div class=\"sk-item\"><div class=\"sk-label-container\"><div class=\"sk-label sk-toggleable\"><label>final_estimator</label></div></div><div class=\"sk-serial\"><div class=\"sk-item\"><div class=\"sk-estimator sk-toggleable\"><input class=\"sk-toggleable__control sk-hidden--visually\" id=\"sk-estimator-id-9\" type=\"checkbox\" ><label for=\"sk-estimator-id-9\" class=\"sk-toggleable__label sk-toggleable__label-arrow\">LogisticRegression</label><div class=\"sk-toggleable__content\"><pre>LogisticRegression()</pre></div></div></div></div></div></div></div></div></div></div></div></div>"
            ]
          },
          "metadata": {},
          "execution_count": 32
        }
      ]
    },
    {
      "cell_type": "code",
      "source": [
        "from sklearn.metrics import accuracy_score\n",
        "y_pred_stack = stack_model.predict(X_test)\n",
        "print(\"Accuracy Score: \", round(accuracy_score(y_test, y_pred_stack) * 100, 2), \"%\")"
      ],
      "metadata": {
        "colab": {
          "base_uri": "https://localhost:8080/"
        },
        "id": "8t3YelfGYqSw",
        "outputId": "4cabfa05-ed64-4ee1-af96-e5b9f3dfe5a2"
      },
      "execution_count": 33,
      "outputs": [
        {
          "output_type": "stream",
          "name": "stdout",
          "text": [
            "Accuracy Score:  60.0 %\n"
          ]
        }
      ]
    },
    {
      "cell_type": "code",
      "source": [
        "from sklearn.svm import SVC\n",
        "from sklearn.model_selection import GridSearchCV\n",
        "\n",
        "svc = SVC()\n",
        "param_grid = {\n",
        "    'C': [0.1, 1, 10],\n",
        "    'kernel': ['linear', 'rbf'],\n",
        "    'gamma': [0.1, 0.5, 1]\n",
        "}\n",
        "\n",
        "grid_search_svc = GridSearchCV(svc, param_grid, cv=5)"
      ],
      "metadata": {
        "id": "c1ntmRkWZa_t"
      },
      "execution_count": 48,
      "outputs": []
    },
    {
      "cell_type": "code",
      "source": [
        "grid_search_svc.fit(X_train, y_train)\n",
        "grid_search_svc.best_params_"
      ],
      "metadata": {
        "colab": {
          "base_uri": "https://localhost:8080/"
        },
        "id": "CVlsCDJub2yi",
        "outputId": "a09520c0-f090-4a9b-9ab1-fa82bd7c83eb"
      },
      "execution_count": 49,
      "outputs": [
        {
          "output_type": "execute_result",
          "data": {
            "text/plain": [
              "{'C': 1, 'gamma': 0.1, 'kernel': 'linear'}"
            ]
          },
          "metadata": {},
          "execution_count": 49
        }
      ]
    },
    {
      "cell_type": "code",
      "source": [
        "from sklearn.svm import SVC\n",
        "svc = SVC(C= 1, gamma= 0.1, kernel= 'linear')\n",
        "svc.fit(X_train, y_train)"
      ],
      "metadata": {
        "colab": {
          "base_uri": "https://localhost:8080/",
          "height": 74
        },
        "id": "aRxV89NBf_iM",
        "outputId": "b1e9cedf-fb4f-431e-a291-c9e26a7ab5d0"
      },
      "execution_count": 50,
      "outputs": [
        {
          "output_type": "execute_result",
          "data": {
            "text/plain": [
              "SVC(C=1, gamma=0.1, kernel='linear')"
            ],
            "text/html": [
              "<style>#sk-container-id-9 {color: black;background-color: white;}#sk-container-id-9 pre{padding: 0;}#sk-container-id-9 div.sk-toggleable {background-color: white;}#sk-container-id-9 label.sk-toggleable__label {cursor: pointer;display: block;width: 100%;margin-bottom: 0;padding: 0.3em;box-sizing: border-box;text-align: center;}#sk-container-id-9 label.sk-toggleable__label-arrow:before {content: \"▸\";float: left;margin-right: 0.25em;color: #696969;}#sk-container-id-9 label.sk-toggleable__label-arrow:hover:before {color: black;}#sk-container-id-9 div.sk-estimator:hover label.sk-toggleable__label-arrow:before {color: black;}#sk-container-id-9 div.sk-toggleable__content {max-height: 0;max-width: 0;overflow: hidden;text-align: left;background-color: #f0f8ff;}#sk-container-id-9 div.sk-toggleable__content pre {margin: 0.2em;color: black;border-radius: 0.25em;background-color: #f0f8ff;}#sk-container-id-9 input.sk-toggleable__control:checked~div.sk-toggleable__content {max-height: 200px;max-width: 100%;overflow: auto;}#sk-container-id-9 input.sk-toggleable__control:checked~label.sk-toggleable__label-arrow:before {content: \"▾\";}#sk-container-id-9 div.sk-estimator input.sk-toggleable__control:checked~label.sk-toggleable__label {background-color: #d4ebff;}#sk-container-id-9 div.sk-label input.sk-toggleable__control:checked~label.sk-toggleable__label {background-color: #d4ebff;}#sk-container-id-9 input.sk-hidden--visually {border: 0;clip: rect(1px 1px 1px 1px);clip: rect(1px, 1px, 1px, 1px);height: 1px;margin: -1px;overflow: hidden;padding: 0;position: absolute;width: 1px;}#sk-container-id-9 div.sk-estimator {font-family: monospace;background-color: #f0f8ff;border: 1px dotted black;border-radius: 0.25em;box-sizing: border-box;margin-bottom: 0.5em;}#sk-container-id-9 div.sk-estimator:hover {background-color: #d4ebff;}#sk-container-id-9 div.sk-parallel-item::after {content: \"\";width: 100%;border-bottom: 1px solid gray;flex-grow: 1;}#sk-container-id-9 div.sk-label:hover label.sk-toggleable__label {background-color: #d4ebff;}#sk-container-id-9 div.sk-serial::before {content: \"\";position: absolute;border-left: 1px solid gray;box-sizing: border-box;top: 0;bottom: 0;left: 50%;z-index: 0;}#sk-container-id-9 div.sk-serial {display: flex;flex-direction: column;align-items: center;background-color: white;padding-right: 0.2em;padding-left: 0.2em;position: relative;}#sk-container-id-9 div.sk-item {position: relative;z-index: 1;}#sk-container-id-9 div.sk-parallel {display: flex;align-items: stretch;justify-content: center;background-color: white;position: relative;}#sk-container-id-9 div.sk-item::before, #sk-container-id-9 div.sk-parallel-item::before {content: \"\";position: absolute;border-left: 1px solid gray;box-sizing: border-box;top: 0;bottom: 0;left: 50%;z-index: -1;}#sk-container-id-9 div.sk-parallel-item {display: flex;flex-direction: column;z-index: 1;position: relative;background-color: white;}#sk-container-id-9 div.sk-parallel-item:first-child::after {align-self: flex-end;width: 50%;}#sk-container-id-9 div.sk-parallel-item:last-child::after {align-self: flex-start;width: 50%;}#sk-container-id-9 div.sk-parallel-item:only-child::after {width: 0;}#sk-container-id-9 div.sk-dashed-wrapped {border: 1px dashed gray;margin: 0 0.4em 0.5em 0.4em;box-sizing: border-box;padding-bottom: 0.4em;background-color: white;}#sk-container-id-9 div.sk-label label {font-family: monospace;font-weight: bold;display: inline-block;line-height: 1.2em;}#sk-container-id-9 div.sk-label-container {text-align: center;}#sk-container-id-9 div.sk-container {/* jupyter's `normalize.less` sets `[hidden] { display: none; }` but bootstrap.min.css set `[hidden] { display: none !important; }` so we also need the `!important` here to be able to override the default hidden behavior on the sphinx rendered scikit-learn.org. See: https://github.com/scikit-learn/scikit-learn/issues/21755 */display: inline-block !important;position: relative;}#sk-container-id-9 div.sk-text-repr-fallback {display: none;}</style><div id=\"sk-container-id-9\" class=\"sk-top-container\"><div class=\"sk-text-repr-fallback\"><pre>SVC(C=1, gamma=0.1, kernel=&#x27;linear&#x27;)</pre><b>In a Jupyter environment, please rerun this cell to show the HTML representation or trust the notebook. <br />On GitHub, the HTML representation is unable to render, please try loading this page with nbviewer.org.</b></div><div class=\"sk-container\" hidden><div class=\"sk-item\"><div class=\"sk-estimator sk-toggleable\"><input class=\"sk-toggleable__control sk-hidden--visually\" id=\"sk-estimator-id-23\" type=\"checkbox\" checked><label for=\"sk-estimator-id-23\" class=\"sk-toggleable__label sk-toggleable__label-arrow\">SVC</label><div class=\"sk-toggleable__content\"><pre>SVC(C=1, gamma=0.1, kernel=&#x27;linear&#x27;)</pre></div></div></div></div></div>"
            ]
          },
          "metadata": {},
          "execution_count": 50
        }
      ]
    },
    {
      "cell_type": "code",
      "source": [
        "from sklearn.metrics import accuracy_score\n",
        "y_pred_svc = svc.predict(X_test)\n",
        "print(\"Accuracy Score: \", round(accuracy_score(y_test, y_pred_svc) * 100, 2), \"%\")"
      ],
      "metadata": {
        "colab": {
          "base_uri": "https://localhost:8080/"
        },
        "id": "JTQZ1EFMghg1",
        "outputId": "6d9ec439-5f0b-4803-85c1-7da734605c61"
      },
      "execution_count": 51,
      "outputs": [
        {
          "output_type": "stream",
          "name": "stdout",
          "text": [
            "Accuracy Score:  54.29 %\n"
          ]
        }
      ]
    },
    {
      "cell_type": "code",
      "source": [
        "from sklearn.metrics import classification_report\n",
        "print(classification_report(y_test, y_pred_svc))"
      ],
      "metadata": {
        "colab": {
          "base_uri": "https://localhost:8080/"
        },
        "id": "K2tMUHeIg4oo",
        "outputId": "bd49b28d-7027-489a-9806-fee257f69b72"
      },
      "execution_count": 52,
      "outputs": [
        {
          "output_type": "stream",
          "name": "stdout",
          "text": [
            "              precision    recall  f1-score   support\n",
            "\n",
            "           1       0.60      0.60      0.60        20\n",
            "           2       0.47      0.47      0.47        15\n",
            "\n",
            "    accuracy                           0.54        35\n",
            "   macro avg       0.53      0.53      0.53        35\n",
            "weighted avg       0.54      0.54      0.54        35\n",
            "\n"
          ]
        }
      ]
    },
    {
      "cell_type": "code",
      "source": [
        "from sklearn.metrics import confusion_matrix\n",
        "cm = confusion_matrix(y_test, y_pred_svc)\n",
        "plt.figure(figsize=(5,5))\n",
        "sns.heatmap(data = cm, linewidths = 0.5, annot = True, cmap = 'Blues')\n",
        "plt.ylabel('Actual label')\n",
        "plt.xlabel('Predicted label')\n",
        "all_sample_title = 'Accuracy Score for the SVC Model: {0}'.format(svc.score(X_test, y_test))\n",
        "plt.title(all_sample_title, size = 15)"
      ],
      "metadata": {
        "colab": {
          "base_uri": "https://localhost:8080/",
          "height": 507
        },
        "id": "J_XDKUz4grih",
        "outputId": "3dd2d186-6e25-468e-f531-f0fb67848b9e"
      },
      "execution_count": 53,
      "outputs": [
        {
          "output_type": "execute_result",
          "data": {
            "text/plain": [
              "Text(0.5, 1.0, 'Accuracy Score for the SVC Model: 0.5428571428571428')"
            ]
          },
          "metadata": {},
          "execution_count": 53
        },
        {
          "output_type": "display_data",
          "data": {
            "text/plain": [
              "<Figure size 500x500 with 2 Axes>"
            ],
            "image/png": "[encoded data removed]"
          },
          "metadata": {}
        }
      ]
    },
    {
      "cell_type": "code",
      "source": [
        "from sklearn.ensemble import StackingClassifier\n",
        "from sklearn.linear_model import LogisticRegression\n",
        "\n",
        "estimator_list = [\n",
        "    ('dtree',dtree),\n",
        "    ('gnb',gnb),\n",
        "     ('svc',svc)]\n",
        "\n",
        "sec_stack_model = StackingClassifier(\n",
        "    estimators=estimator_list, final_estimator=LogisticRegression()\n",
        ")\n",
        "\n",
        "sec_stack_model.fit(X_train, y_train)"
      ],
      "metadata": {
        "colab": {
          "base_uri": "https://localhost:8080/",
          "height": 163
        },
        "id": "PYRJALD0hRtG",
        "outputId": "5ff09315-fbf1-4702-fc5d-b091eaf0595f"
      },
      "execution_count": 57,
      "outputs": [
        {
          "output_type": "execute_result",
          "data": {
            "text/plain": [
              "StackingClassifier(estimators=[('dtree',\n",
              "                                DecisionTreeClassifier(class_weight='balanced',\n",
              "                                                       max_depth=3,\n",
              "                                                       min_samples_leaf=3,\n",
              "                                                       random_state=20)),\n",
              "                               ('gnb', GaussianNB(var_smoothing=0)),\n",
              "                               ('svc', SVC(C=1, gamma=0.1, kernel='linear'))],\n",
              "                   final_estimator=LogisticRegression())"
            ],
            "text/html": [
              "<style>#sk-container-id-12 {color: black;background-color: white;}#sk-container-id-12 pre{padding: 0;}#sk-container-id-12 div.sk-toggleable {background-color: white;}#sk-container-id-12 label.sk-toggleable__label {cursor: pointer;display: block;width: 100%;margin-bottom: 0;padding: 0.3em;box-sizing: border-box;text-align: center;}#sk-container-id-12 label.sk-toggleable__label-arrow:before {content: \"▸\";float: left;margin-right: 0.25em;color: #696969;}#sk-container-id-12 label.sk-toggleable__label-arrow:hover:before {color: black;}#sk-container-id-12 div.sk-estimator:hover label.sk-toggleable__label-arrow:before {color: black;}#sk-container-id-12 div.sk-toggleable__content {max-height: 0;max-width: 0;overflow: hidden;text-align: left;background-color: #f0f8ff;}#sk-container-id-12 div.sk-toggleable__content pre {margin: 0.2em;color: black;border-radius: 0.25em;background-color: #f0f8ff;}#sk-container-id-12 input.sk-toggleable__control:checked~div.sk-toggleable__content {max-height: 200px;max-width: 100%;overflow: auto;}#sk-container-id-12 input.sk-toggleable__control:checked~label.sk-toggleable__label-arrow:before {content: \"▾\";}#sk-container-id-12 div.sk-estimator input.sk-toggleable__control:checked~label.sk-toggleable__label {background-color: #d4ebff;}#sk-container-id-12 div.sk-label input.sk-toggleable__control:checked~label.sk-toggleable__label {background-color: #d4ebff;}#sk-container-id-12 input.sk-hidden--visually {border: 0;clip: rect(1px 1px 1px 1px);clip: rect(1px, 1px, 1px, 1px);height: 1px;margin: -1px;overflow: hidden;padding: 0;position: absolute;width: 1px;}#sk-container-id-12 div.sk-estimator {font-family: monospace;background-color: #f0f8ff;border: 1px dotted black;border-radius: 0.25em;box-sizing: border-box;margin-bottom: 0.5em;}#sk-container-id-12 div.sk-estimator:hover {background-color: #d4ebff;}#sk-container-id-12 div.sk-parallel-item::after {content: \"\";width: 100%;border-bottom: 1px solid gray;flex-grow: 1;}#sk-container-id-12 div.sk-label:hover label.sk-toggleable__label {background-color: #d4ebff;}#sk-container-id-12 div.sk-serial::before {content: \"\";position: absolute;border-left: 1px solid gray;box-sizing: border-box;top: 0;bottom: 0;left: 50%;z-index: 0;}#sk-container-id-12 div.sk-serial {display: flex;flex-direction: column;align-items: center;background-color: white;padding-right: 0.2em;padding-left: 0.2em;position: relative;}#sk-container-id-12 div.sk-item {position: relative;z-index: 1;}#sk-container-id-12 div.sk-parallel {display: flex;align-items: stretch;justify-content: center;background-color: white;position: relative;}#sk-container-id-12 div.sk-item::before, #sk-container-id-12 div.sk-parallel-item::before {content: \"\";position: absolute;border-left: 1px solid gray;box-sizing: border-box;top: 0;bottom: 0;left: 50%;z-index: -1;}#sk-container-id-12 div.sk-parallel-item {display: flex;flex-direction: column;z-index: 1;position: relative;background-color: white;}#sk-container-id-12 div.sk-parallel-item:first-child::after {align-self: flex-end;width: 50%;}#sk-container-id-12 div.sk-parallel-item:last-child::after {align-self: flex-start;width: 50%;}#sk-container-id-12 div.sk-parallel-item:only-child::after {width: 0;}#sk-container-id-12 div.sk-dashed-wrapped {border: 1px dashed gray;margin: 0 0.4em 0.5em 0.4em;box-sizing: border-box;padding-bottom: 0.4em;background-color: white;}#sk-container-id-12 div.sk-label label {font-family: monospace;font-weight: bold;display: inline-block;line-height: 1.2em;}#sk-container-id-12 div.sk-label-container {text-align: center;}#sk-container-id-12 div.sk-container {/* jupyter's `normalize.less` sets `[hidden] { display: none; }` but bootstrap.min.css set `[hidden] { display: none !important; }` so we also need the `!important` here to be able to override the default hidden behavior on the sphinx rendered scikit-learn.org. See: https://github.com/scikit-learn/scikit-learn/issues/21755 */display: inline-block !important;position: relative;}#sk-container-id-12 div.sk-text-repr-fallback {display: none;}</style><div id=\"sk-container-id-12\" class=\"sk-top-container\"><div class=\"sk-text-repr-fallback\"><pre>StackingClassifier(estimators=[(&#x27;dtree&#x27;,\n",
              "                                DecisionTreeClassifier(class_weight=&#x27;balanced&#x27;,\n",
              "                                                       max_depth=3,\n",
              "                                                       min_samples_leaf=3,\n",
              "                                                       random_state=20)),\n",
              "                               (&#x27;gnb&#x27;, GaussianNB(var_smoothing=0)),\n",
              "                               (&#x27;svc&#x27;, SVC(C=1, gamma=0.1, kernel=&#x27;linear&#x27;))],\n",
              "                   final_estimator=LogisticRegression())</pre><b>In a Jupyter environment, please rerun this cell to show the HTML representation or trust the notebook. <br />On GitHub, the HTML representation is unable to render, please try loading this page with nbviewer.org.</b></div><div class=\"sk-container\" hidden><div class=\"sk-item sk-dashed-wrapped\"><div class=\"sk-label-container\"><div class=\"sk-label sk-toggleable\"><input class=\"sk-toggleable__control sk-hidden--visually\" id=\"sk-estimator-id-34\" type=\"checkbox\" ><label for=\"sk-estimator-id-34\" class=\"sk-toggleable__label sk-toggleable__label-arrow\">StackingClassifier</label><div class=\"sk-toggleable__content\"><pre>StackingClassifier(estimators=[(&#x27;dtree&#x27;,\n",
              "                                DecisionTreeClassifier(class_weight=&#x27;balanced&#x27;,\n",
              "                                                       max_depth=3,\n",
              "                                                       min_samples_leaf=3,\n",
              "                                                       random_state=20)),\n",
              "                               (&#x27;gnb&#x27;, GaussianNB(var_smoothing=0)),\n",
              "                               (&#x27;svc&#x27;, SVC(C=1, gamma=0.1, kernel=&#x27;linear&#x27;))],\n",
              "                   final_estimator=LogisticRegression())</pre></div></div></div><div class=\"sk-serial\"><div class=\"sk-item\"><div class=\"sk-parallel\"><div class=\"sk-parallel-item\"><div class=\"sk-item\"><div class=\"sk-label-container\"><div class=\"sk-label sk-toggleable\"><label>dtree</label></div></div><div class=\"sk-serial\"><div class=\"sk-item\"><div class=\"sk-estimator sk-toggleable\"><input class=\"sk-toggleable__control sk-hidden--visually\" id=\"sk-estimator-id-35\" type=\"checkbox\" ><label for=\"sk-estimator-id-35\" class=\"sk-toggleable__label sk-toggleable__label-arrow\">DecisionTreeClassifier</label><div class=\"sk-toggleable__content\"><pre>DecisionTreeClassifier(class_weight=&#x27;balanced&#x27;, max_depth=3, min_samples_leaf=3,\n",
              "                       random_state=20)</pre></div></div></div></div></div></div><div class=\"sk-parallel-item\"><div class=\"sk-item\"><div class=\"sk-label-container\"><div class=\"sk-label sk-toggleable\"><label>gnb</label></div></div><div class=\"sk-serial\"><div class=\"sk-item\"><div class=\"sk-estimator sk-toggleable\"><input class=\"sk-toggleable__control sk-hidden--visually\" id=\"sk-estimator-id-36\" type=\"checkbox\" ><label for=\"sk-estimator-id-36\" class=\"sk-toggleable__label sk-toggleable__label-arrow\">GaussianNB</label><div class=\"sk-toggleable__content\"><pre>GaussianNB(var_smoothing=0)</pre></div></div></div></div></div></div><div class=\"sk-parallel-item\"><div class=\"sk-item\"><div class=\"sk-label-container\"><div class=\"sk-label sk-toggleable\"><label>svc</label></div></div><div class=\"sk-serial\"><div class=\"sk-item\"><div class=\"sk-estimator sk-toggleable\"><input class=\"sk-toggleable__control sk-hidden--visually\" id=\"sk-estimator-id-37\" type=\"checkbox\" ><label for=\"sk-estimator-id-37\" class=\"sk-toggleable__label sk-toggleable__label-arrow\">SVC</label><div class=\"sk-toggleable__content\"><pre>SVC(C=1, gamma=0.1, kernel=&#x27;linear&#x27;)</pre></div></div></div></div></div></div></div></div><div class=\"sk-item\"><div class=\"sk-parallel\"><div class=\"sk-parallel-item\"><div class=\"sk-item\"><div class=\"sk-label-container\"><div class=\"sk-label sk-toggleable\"><label>final_estimator</label></div></div><div class=\"sk-serial\"><div class=\"sk-item\"><div class=\"sk-estimator sk-toggleable\"><input class=\"sk-toggleable__control sk-hidden--visually\" id=\"sk-estimator-id-38\" type=\"checkbox\" ><label for=\"sk-estimator-id-38\" class=\"sk-toggleable__label sk-toggleable__label-arrow\">LogisticRegression</label><div class=\"sk-toggleable__content\"><pre>LogisticRegression()</pre></div></div></div></div></div></div></div></div></div></div></div></div>"
            ]
          },
          "metadata": {},
          "execution_count": 57
        }
      ]
    },
    {
      "cell_type": "code",
      "source": [
        "from sklearn.metrics import accuracy_score\n",
        "y_pred_stack = sec_stack_model.predict(X_test)\n",
        "print(\"Accuracy Score: \", round(accuracy_score(y_test, y_pred_stack) * 100, 2), \"%\")"
      ],
      "metadata": {
        "colab": {
          "base_uri": "https://localhost:8080/"
        },
        "id": "QethatXKhsnT",
        "outputId": "a79bde40-e24f-41f2-ea36-feaeeb1bfac0"
      },
      "execution_count": 58,
      "outputs": [
        {
          "output_type": "stream",
          "name": "stdout",
          "text": [
            "Accuracy Score:  60.0 %\n"
          ]
        }
      ]
    }
  ],
  "metadata": {
    "colab": {
      "provenance": []
    },
    "kernelspec": {
      "display_name": "Python 3",
      "name": "python3"
    },
    "language_info": {
      "name": "python"
    }
  },
  "nbformat": 4,
  "nbformat_minor": 0
}